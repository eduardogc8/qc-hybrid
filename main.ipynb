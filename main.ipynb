{
 "cells": [
  {
   "cell_type": "markdown",
   "metadata": {},
   "source": [
    "# Question Classification"
   ]
  },
  {
   "cell_type": "markdown",
   "metadata": {},
   "source": [
    "## Load word2vec models"
   ]
  },
  {
   "cell_type": "markdown",
   "metadata": {},
   "source": [
    "#### Load the word2vec models"
   ]
  },
  {
   "cell_type": "code",
   "execution_count": 1,
   "metadata": {},
   "outputs": [
    {
     "name": "stderr",
     "output_type": "stream",
     "text": [
      "C:\\Users\\Dinopc\\Anaconda3\\envs\\venv\\lib\\site-packages\\gensim\\utils.py:1212: UserWarning: detected Windows; aliasing chunkize to chunkize_serial\n",
      "  warnings.warn(\"detected Windows; aliasing chunkize to chunkize_serial\")\n"
     ]
    }
   ],
   "source": [
    "import gensim\n",
    "from gensim.models import KeyedVectors"
   ]
  },
  {
   "cell_type": "code",
   "execution_count": 2,
   "metadata": {},
   "outputs": [
    {
     "name": "stderr",
     "output_type": "stream",
     "text": [
      "C:\\Users\\Dinopc\\Anaconda3\\envs\\venv\\lib\\site-packages\\ipykernel_launcher.py:3: DeprecationWarning: Call to deprecated `syn0` (Attribute will be removed in 4.0.0, use self.wv.vectors instead).\n",
      "  This is separate from the ipykernel package so we can avoid doing imports until\n"
     ]
    },
    {
     "name": "stdout",
     "output_type": "stream",
     "text": [
      "Wall time: 3min 26s\n"
     ]
    }
   ],
   "source": [
    "%%time\n",
    "pt_w2v_patch = 'C:\\word_embedding\\pt_cbow_s300.txt'\n",
    "pt_w2v = KeyedVectors.load_word2vec_format(pt_w2v_patch, unicode_errors=\"ignore\")\n",
    "pt_model_w2v = {w: vec for w, vec in zip(pt_w2v.index2word, pt_w2v.syn0)}\n",
    "del pt_w2v"
   ]
  },
  {
   "cell_type": "code",
   "execution_count": null,
   "metadata": {},
   "outputs": [],
   "source": [
    "%%time\n",
    "en_w2v_patch = 'C:\\word_embedding\\GoogleNews-vectors-negative300.bin'\n",
    "en_w2v = gensim.models.Word2Vec.load_word2vec_format(en_w2v_patch, binary=True)\n",
    "en_model_w2v = {w: vec for w, vec in zip(en_w2v.index2word, en_w2v.syn0)}\n",
    "del en_w2v"
   ]
  },
  {
   "cell_type": "markdown",
   "metadata": {},
   "source": [
    "## Util"
   ]
  },
  {
   "cell_type": "markdown",
   "metadata": {},
   "source": [
    "#### Separete the questions in data (X) and label (y)"
   ]
  },
  {
   "cell_type": "code",
   "execution_count": 3,
   "metadata": {},
   "outputs": [],
   "source": [
    "def separete_questions(questions, label_key='class'):\n",
    "    X = []\n",
    "    y = []\n",
    "    for question in questions:\n",
    "        text = question['question']\n",
    "        X.append(text)\n",
    "        y.append(question[label_key])\n",
    "    return X, y"
   ]
  },
  {
   "cell_type": "markdown",
   "metadata": {},
   "source": [
    "####  Ignore all warnings"
   ]
  },
  {
   "cell_type": "code",
   "execution_count": 4,
   "metadata": {},
   "outputs": [],
   "source": [
    "import warnings\n",
    "warnings.filterwarnings(\"ignore\")"
   ]
  },
  {
   "cell_type": "markdown",
   "metadata": {},
   "source": [
    "### Reload Import"
   ]
  },
  {
   "cell_type": "code",
   "execution_count": null,
   "metadata": {},
   "outputs": [],
   "source": [
    "import importlib\n",
    "importlib.reload(QCM)"
   ]
  },
  {
   "cell_type": "markdown",
   "metadata": {},
   "source": [
    "## Create Models"
   ]
  },
  {
   "cell_type": "markdown",
   "metadata": {},
   "source": [
    "#### SVM\n",
    "\n"
   ]
  },
  {
   "cell_type": "code",
   "execution_count": 5,
   "metadata": {},
   "outputs": [],
   "source": [
    "from sklearn.pipeline import Pipeline\n",
    "from sklearn.svm import LinearSVC\n",
    "import qc_models as QCM \n",
    "\n",
    "def svm_bow_model():\n",
    "    return Pipeline([(\"vector_model\", QCM.count_vectorizer(max_features=1000)), (\"classifer\", LinearSVC())])\n",
    "\n",
    "def svm_tfidf_model():\n",
    "    return Pipeline([(\"vector_model\", QCM.tfidf_vectorizer(max_features=1000)), (\"classifer\", LinearSVC())])\n",
    "\n",
    "def svm_w2v_model(w2v):\n",
    "    return Pipeline([(\"vector_model\", QCM.MeanEmbeddingVectorizer(w2v)), (\"classifer\", LinearSVC())])\n",
    "\n",
    "def svm_hybrid_model(w2v):\n",
    "    cv_ = QCM.tfidf_vectorizer(max_features=1000)\n",
    "    cv_.fit(chave_X)\n",
    "    cv = QCM.my_vectorizer(cv_)\n",
    "    return Pipeline([(\"vector_model\", QCM.HybridVectorizer(pt_model_w2v, cv)), (\"classifer\", LinearSVC())])\n",
    "\n",
    "def svm_hybrid2_model(w2v):\n",
    "    cv_ = QCM.count_vectorizer(max_features=1000)\n",
    "    cv_.fit(chave_X)\n",
    "    cv = QCM.my_vectorizer(cv_)\n",
    "    return Pipeline([(\"vector_model\", QCM.HybridVectorizer(pt_model_w2v, cv)), (\"classifer\", LinearSVC())])"
   ]
  },
  {
   "cell_type": "markdown",
   "metadata": {},
   "source": [
    "#### Naive Bayes"
   ]
  },
  {
   "cell_type": "code",
   "execution_count": 41,
   "metadata": {},
   "outputs": [],
   "source": [
    "from sklearn.pipeline import Pipeline\n",
    "from sklearn.naive_bayes import BernoulliNB, MultinomialNB\n",
    "import qc_models as QCM \n",
    "\n",
    "\n",
    "def nbmn_bow_model():\n",
    "    cv_ = QCM.count_vectorizer(max_features=1000)\n",
    "    cv_.fit(chave_X)\n",
    "    cv = QCM.my_vectorizer(cv_)\n",
    "    return Pipeline([(\"vector_model\", cv), (\"classifer\", MultinomialNB())])\n",
    "\n",
    "def nbmn_tfidf_model():\n",
    "    cv_ = QCM.tfidf_vectorizer(max_features=1000)\n",
    "    cv_.fit(chave_X)\n",
    "    cv = QCM.my_vectorizer(cv_)\n",
    "    return Pipeline([(\"vector_model\", cv), (\"classifer\", MultinomialNB())])\n",
    "\n",
    "def nbmn_w2v_model(w2v):\n",
    "    return Pipeline([(\"vector_model\", QCM.MeanEmbeddingVectorizer(w2v)), (\"classifer\", MultinomialNB())])\n",
    "\n",
    "def nbmn_hybrid_model(w2v):\n",
    "    cv_ = QCM.tfidf_vectorizer(max_features=1000)\n",
    "    cv_.fit(chave_X)\n",
    "    cv = QCM.my_vectorizer(cv_)\n",
    "    return Pipeline([(\"vector_model\", cv), (\"classifer\", MultinomialNB())])\n",
    "\n",
    "def nbmn_hybrid2_model(w2v):\n",
    "    cv_ = QCM.count_vectorizer(max_features=1000)\n",
    "    cv_.fit(chave_X)\n",
    "    cv = QCM.my_vectorizer(cv_)\n",
    "    return Pipeline([(\"vector_model\", cv), (\"classifer\", MultinomialNB())])\n",
    "\n",
    "\n",
    "\n",
    "\n",
    "def nbbl_bow_model():\n",
    "    cv_ = QCM.count_vectorizer(max_features=1000)\n",
    "    cv_.fit(chave_X)\n",
    "    cv = QCM.my_vectorizer(cv_)\n",
    "    return Pipeline([(\"vector_model\", cv), (\"classifer\", BernoulliNB())])\n",
    "\n",
    "def nbbl_tfidf_model():\n",
    "    cv_ = QCM.tfidf_vectorizer(max_features=1000)\n",
    "    cv_.fit(chave_X)\n",
    "    cv = QCM.my_vectorizer(cv_)\n",
    "    return Pipeline([(\"vector_model\", cv), (\"classifer\", BernoulliNB())])\n",
    "\n",
    "def nbbl_w2v_model(w2v):\n",
    "    return Pipeline([(\"vector_model\", QCM.MeanEmbeddingVectorizer(w2v)), (\"classifer\", BernoulliNB())])\n",
    "\n",
    "def nbbl_hybrid_model(w2v):\n",
    "    cv_ = QCM.tfidf_vectorizer(max_features=1000)\n",
    "    cv_.fit(chave_X)\n",
    "    cv = QCM.my_vectorizer(cv_)\n",
    "    return Pipeline([(\"vector_model\", QCM.HybridVectorizer(pt_model_w2v, cv)), (\"classifer\", BernoulliNB())])\n",
    "\n",
    "def nbbl_hybrid2_model(w2v):\n",
    "    cv_ = QCM.count_vectorizer(max_features=1000)\n",
    "    cv_.fit(chave_X)\n",
    "    cv = QCM.my_vectorizer(cv_)\n",
    "    return Pipeline([(\"vector_model\", QCM.HybridVectorizer(pt_model_w2v, cv)), (\"classifer\", BernoulliNB())])"
   ]
  },
  {
   "cell_type": "markdown",
   "metadata": {},
   "source": [
    "#### MLP"
   ]
  },
  {
   "cell_type": "code",
   "execution_count": 5,
   "metadata": {},
   "outputs": [
    {
     "name": "stderr",
     "output_type": "stream",
     "text": [
      "Using TensorFlow backend.\n"
     ]
    }
   ],
   "source": [
    "from sklearn.pipeline import Pipeline\n",
    "from keras.models import Sequential\n",
    "from keras.layers import Dense, Dropout\n",
    "from keras.wrappers.scikit_learn import KerasClassifier\n",
    "import qc_models as QCM \n",
    "\n",
    "\n",
    "def mlp_bow_model_():\n",
    "    model = Sequential()\n",
    "    model.add(Dense(500, activation='relu', input_dim=1000))\n",
    "    model.add(Dropout(0.2))\n",
    "    model.add(Dense(7, activation='softmax'))\n",
    "    model.compile(optimizer='rmsprop',\n",
    "                  loss='categorical_crossentropy')\n",
    "    return model\n",
    "\n",
    "def mlp_w2v_model_():\n",
    "    model = Sequential()\n",
    "    model.add(Dense(150, activation='relu', input_dim=300))\n",
    "    model.add(Dropout(0.2))\n",
    "    model.add(Dense(7, activation='softmax'))\n",
    "    model.compile(optimizer='rmsprop',\n",
    "                  loss='categorical_crossentropy')\n",
    "    return model\n",
    "\n",
    "def mlp_hybrid_model_():\n",
    "    model = Sequential()\n",
    "    model.add(Dense(650, activation='relu', input_dim=1300))\n",
    "    model.add(Dropout(0.2))\n",
    "    model.add(Dense(7, activation='softmax'))\n",
    "    model.compile(optimizer='rmsprop',\n",
    "                  loss='categorical_crossentropy')\n",
    "    return model\n",
    "\n",
    "def mlp_bow_model():\n",
    "    cv_ = QCM.count_vectorizer(max_features=1000)\n",
    "    cv_.fit(chave_X)\n",
    "    cv = QCM.my_vectorizer(cv_)\n",
    "    model_ = KerasClassifier(build_fn=mlp_bow_model_, verbose=0, epochs=10)\n",
    "    return Pipeline([(\"vector_model\", cv), (\"classifer\", model_)])\n",
    "\n",
    "def mlp_tfidf_model():\n",
    "    cv_ = QCM.tfidf_vectorizer(max_features=1000)\n",
    "    cv_.fit(chave_X)\n",
    "    cv = QCM.my_vectorizer(cv_)\n",
    "    model_ = KerasClassifier(build_fn=mlp_bow_model_, verbose=0, epochs=10)\n",
    "    return Pipeline([(\"vector_model\", cv), (\"classifer\", model_)])\n",
    "\n",
    "def mlp_w2v_model():\n",
    "    model_ = KerasClassifier(build_fn=mlp_w2v_model_, verbose=0, epochs=10)\n",
    "    return Pipeline([(\"vector_model\", QCM.MeanEmbeddingVectorizer(pt_model_w2v)), (\"classifer\", model_)])\n",
    "\n",
    "def mlp_hybrid_model():\n",
    "    cv_ = QCM.tfidf_vectorizer(max_features=1000)\n",
    "    cv_.fit(chave_X)\n",
    "    cv = QCM.my_vectorizer(cv_)\n",
    "    model_ = KerasClassifier(build_fn=mlp_hybrid_model_, verbose=0, epochs=10)\n",
    "    return Pipeline([(\"vector_model\", QCM.HybridVectorizer(pt_model_w2v, cv)), (\"classifer\", model_)])\n",
    "\n",
    "def mlp_hybrid2_model():\n",
    "    cv_ = QCM.count_vectorizer(max_features=1000)\n",
    "    cv_.fit(chave_X)\n",
    "    cv = QCM.my_vectorizer(cv_)\n",
    "    model_ = KerasClassifier(build_fn=mlp_hybrid_model_, verbose=0, epochs=10)\n",
    "    return Pipeline([(\"vector_model\", QCM.HybridVectorizer(pt_model_w2v, cv)), (\"classifer\", model_)])"
   ]
  },
  {
   "cell_type": "markdown",
   "metadata": {},
   "source": [
    "#### LSTM"
   ]
  },
  {
   "cell_type": "code",
   "execution_count": 21,
   "metadata": {},
   "outputs": [],
   "source": [
    "from keras.models import Model, Sequential\n",
    "from keras.layers import TimeDistributed,Conv1D,Dense,Embedding,Input,Dropout,LSTM,Bidirectional,MaxPooling1D,Flatten,concatenate,Concatenate\n",
    "import qc_models as QCM \n",
    "\n",
    "\n",
    "def lstm_bow_model():\n",
    "    model = Sequential()\n",
    "    model.add(LSTM(64, input_dim=1000, name='LSTM0'))\n",
    "    model.add(Dense(256, activation='relu', name='Dence1'))\n",
    "    model.add(Dropout(0.5, name='Droupout2'))\n",
    "    model.add(Dense(7, activation='sigmoid', name='Dense_out3'))\n",
    "    model.compile(optimizer='adam',\n",
    "                  loss='categorical_crossentropy')\n",
    "    return model\n",
    "\n",
    "def lstm_w2v_model():\n",
    "    model = Sequential()\n",
    "    model.add(LSTM(64, input_dim=300, name='LSTM0'))\n",
    "    model.add(Dense(256, activation='relu', name='Dence1'))\n",
    "    model.add(Dropout(0.5, name='Droupout2'))\n",
    "    model.add(Dense(7, activation='sigmoid', name='Dense_out3'))\n",
    "    model.compile(optimizer='adam',\n",
    "                  loss='categorical_crossentropy')\n",
    "    return model\n",
    "\n",
    "def lstm_hybrid_model():\n",
    "    model = Sequential()\n",
    "    model.add(LSTM(64, input_dim=1300, name='LSTM0'))\n",
    "    model.add(Dense(256, activation='relu', name='Dence1'))\n",
    "    model.add(Dropout(0.5, name='Droupout2'))\n",
    "    model.add(Dense(7, activation='sigmoid', name='Dense_out3'))\n",
    "    model.compile(optimizer='adam',\n",
    "                  loss='categorical_crossentropy')\n",
    "    return model"
   ]
  },
  {
   "cell_type": "markdown",
   "metadata": {},
   "source": [
    "## Chave"
   ]
  },
  {
   "cell_type": "code",
   "execution_count": 6,
   "metadata": {},
   "outputs": [],
   "source": [
    "import datasets_manager as DM\n",
    "\n",
    "\n",
    "chave = DM.chave_questions()"
   ]
  },
  {
   "cell_type": "markdown",
   "metadata": {},
   "source": [
    "### Data pre-processing"
   ]
  },
  {
   "cell_type": "markdown",
   "metadata": {},
   "source": [
    "#### Remove questions with incosiderate class"
   ]
  },
  {
   "cell_type": "code",
   "execution_count": 7,
   "metadata": {},
   "outputs": [
    {
     "name": "stdout",
     "output_type": "stream",
     "text": [
      "Considerate Classes: {'LOCATION', 'MEASURE', 'OTHER', 'ORGANIZATION', 'TIME', 'DEFINITION', 'PERSON'}\n"
     ]
    }
   ],
   "source": [
    "incosiderate_classes=['X', 'MANNER', 'OBJECT', ]  # 'DEFINITION', 'OTHER'\n",
    "considerate_classes = set()\n",
    "ret = []\n",
    "for question in chave:\n",
    "    if question['class'] is not None and question['class'] not in incosiderate_classes:\n",
    "        ret.append(question)\n",
    "        considerate_classes.add(question['class'])\n",
    "chave = ret\n",
    "print('Considerate Classes:', considerate_classes)"
   ]
  },
  {
   "cell_type": "markdown",
   "metadata": {},
   "source": [
    "#### Remove questions with no text in question text"
   ]
  },
  {
   "cell_type": "code",
   "execution_count": 8,
   "metadata": {},
   "outputs": [
    {
     "name": "stdout",
     "output_type": "stream",
     "text": [
      "4 questions was removed\n"
     ]
    }
   ],
   "source": [
    "ret = []\n",
    "count_ = 0\n",
    "for question in chave:\n",
    "    if question['question'] is None or question['question'].strip() == '':\n",
    "        count_ += 1\n",
    "        continue\n",
    "    ret.append(question)\n",
    "chave = ret\n",
    "print(count_, 'questions was removed')"
   ]
  },
  {
   "cell_type": "markdown",
   "metadata": {},
   "source": [
    "#### X and y"
   ]
  },
  {
   "cell_type": "code",
   "execution_count": 9,
   "metadata": {},
   "outputs": [],
   "source": [
    "chave_X, chave_y = separete_questions(chave)"
   ]
  },
  {
   "cell_type": "markdown",
   "metadata": {},
   "source": [
    "#### y to hot encode (not mandatory)"
   ]
  },
  {
   "cell_type": "code",
   "execution_count": 10,
   "metadata": {},
   "outputs": [],
   "source": [
    "import myutil\n",
    "import numpy as np\n",
    "\n",
    "chave_y, chave_y2idx = myutil.myHotEncode([chave_y])\n",
    "chave_y = chave_y[0]"
   ]
  },
  {
   "cell_type": "markdown",
   "metadata": {},
   "source": [
    "#### X to LSTM format (not mandatory)"
   ]
  },
  {
   "cell_type": "code",
   "execution_count": 11,
   "metadata": {
    "scrolled": true
   },
   "outputs": [],
   "source": [
    "import numpy as np\n",
    "from keras.preprocessing.sequence import pad_sequences\n",
    "\n",
    "\n",
    "def word_to_features(word_, cv=None, w2v_=None, bow=True, embedding=False):\n",
    "    word = word_.strip().lower().replace(',', '').replace('.', '').replace('?', '').replace('!', '').replace(';', '').replace('(', '').replace(')', '').replace('\\n', '')\n",
    "    ret__ = []\n",
    "    if bow:\n",
    "        ret__ += cv.transform([word]).toarray().tolist()[0]\n",
    "    if embedding:\n",
    "        if word in w2v_:\n",
    "            ret__ += w2v_[word].tolist()\n",
    "        else:\n",
    "            ret__ += np.zeros(len(w2v_['chocolate'])).tolist()\n",
    "    return ret__\n",
    "\n",
    "cv_bow = QCM.count_vectorizer(max_features=1000)\n",
    "cv_tfidf = QCM.tfidf_vectorizer(max_features=1000)\n",
    "cv_bow.fit(chave_X)\n",
    "cv_tfidf.fit(chave_X)\n",
    "chave_X_bow = []\n",
    "chave_X_tfidf = []\n",
    "chave_X_w2v = []\n",
    "chave_X_hybrid = []\n",
    "chave_X_hybrid2 = []\n",
    "for X_ in chave_X:\n",
    "    instance_bow = []\n",
    "    instance_tfidf = []\n",
    "    instance_w2v = []\n",
    "    instance_hybrid = []\n",
    "    instance_hybrid2 = []\n",
    "    for word in X_.split():\n",
    "        instance_bow.append(word_to_features(word, cv=cv_bow, w2v_=pt_model_w2v, bow=True, embedding=False))\n",
    "        instance_tfidf.append(word_to_features(word, cv=cv_tfidf, w2v_=pt_model_w2v, bow=True, embedding=False))\n",
    "        instance_w2v.append(word_to_features(word, cv=None, w2v_=pt_model_w2v, bow=False, embedding=True))\n",
    "        instance_hybrid.append(word_to_features(word, cv=cv_tfidf, w2v_=pt_model_w2v, bow=True, embedding=True))\n",
    "        instance_hybrid2.append(word_to_features(word, cv=cv_bow, w2v_=pt_model_w2v, bow=True, embedding=True))\n",
    "    chave_X_bow.append(instance_bow)\n",
    "    chave_X_tfidf.append(instance_tfidf)\n",
    "    chave_X_w2v.append(instance_w2v)\n",
    "    chave_X_hybrid.append(instance_hybrid)\n",
    "    chave_X_hybrid2.append(instance_hybrid2)\n",
    "\n",
    "chave_X_bow = pad_sequences(np.array(chave_X_bow), maxlen=12, dtype='float', padding='post', truncating='post', value=0.0)\n",
    "chave_X_tfidf = pad_sequences(np.array(chave_X_tfidf), maxlen=12, dtype='float', padding='post', truncating='post', value=0.0)\n",
    "chave_X_w2v = pad_sequences(np.array(chave_X_w2v), maxlen=12, dtype='float', padding='post', truncating='post', value=0.0)\n",
    "chave_X_hybrid = pad_sequences(np.array(chave_X_hybrid), maxlen=12, dtype='float', padding='post', truncating='post', value=0.0)\n",
    "chave_X_hybrid2 = pad_sequences(np.array(chave_X_hybrid2), maxlen=12, dtype='float', padding='post', truncating='post', value=0.0)\n",
    "\n",
    "\n",
    "#chave_X = pad_sequences(chave_X, maxlen=12, dtype='float', padding='post', truncating='post', value=0.0)"
   ]
  },
  {
   "cell_type": "code",
   "execution_count": 18,
   "metadata": {},
   "outputs": [
    {
     "name": "stdout",
     "output_type": "stream",
     "text": [
      "(3464, 12, 1000)\n",
      "(3464, 12, 1000)\n",
      "(3464, 12, 300)\n",
      "(3464, 12, 1300)\n",
      "(3464, 12, 1300)\n"
     ]
    }
   ],
   "source": [
    "print(chave_X_bow.shape)\n",
    "print(chave_X_tfidf.shape)\n",
    "print(chave_X_w2v.shape)\n",
    "print(chave_X_hybrid.shape)\n",
    "print(chave_X_hybrid2.shape)"
   ]
  },
  {
   "cell_type": "markdown",
   "metadata": {},
   "source": [
    "#### X, y to np.array"
   ]
  },
  {
   "cell_type": "code",
   "execution_count": 13,
   "metadata": {},
   "outputs": [],
   "source": [
    "import numpy as np\n",
    "\n",
    "\n",
    "chave_X = np.array(chave_X)\n",
    "chave_y = np.array(chave_y)"
   ]
  },
  {
   "cell_type": "markdown",
   "metadata": {},
   "source": [
    "### Models"
   ]
  },
  {
   "cell_type": "code",
   "execution_count": 108,
   "metadata": {},
   "outputs": [],
   "source": [
    "models = [\n",
    "    #{'name': 'NBMN BoW', 'model': nbmn_bow_model()},\n",
    "    #{'name': 'NBMN TFIDF', 'model': nbmn_tfidf_model()},\n",
    "    #{'name': 'NBMN W2V', 'model': nbmn_w2v_model(pt_model_w2v)},\n",
    "    #{'name': 'NBMN Hybrid', 'model': nbmn_hybrid_model(pt_model_w2v)},\n",
    "    #{'name': 'NBMN Hybrid2', 'model': nbmn_hybrid2_model(pt_model_w2v)},\n",
    "    #{'name': 'NBBL BoW', 'model': nbbl_bow_model()},\n",
    "    #{'name': 'NBBL TFIDF', 'model': nbbl_tfidf_model()},\n",
    "    #{'name': 'NBBL W2V', 'model': nbbl_w2v_model(pt_model_w2v)},\n",
    "    #{'name': 'NBBL Hybrid', 'model': nbbl_hybrid_model(pt_model_w2v)},\n",
    "    #{'name': 'NBBL Hybrid2', 'model': nbbl_hybrid2_model(pt_model_w2v)},\n",
    "    {'name': 'MLP BoW', 'model': mlp_bow_model()},\n",
    "    #{'name': 'MLP TFIDF', 'model': mlp_tfidf_model()},\n",
    "    #{'name': 'MLP W2V', 'model': mlp_w2v_model()},\n",
    "    #{'name': 'MLP Hybrid', 'model': mlp_hybrid_model()},\n",
    "    #{'name': 'MLP Hybrid B', 'model': mlp_hybrid2_model()},\n",
    "    #{'name': 'LSTM BoW', 'model': lstm_bow_model()},\n",
    "    #{'name': 'LSTM TFIDF', 'model': lstm_bow_model()},\n",
    "    #{'name': 'LSTM W2V', 'model': lstm_w2v_model()},\n",
    "    #{'name': 'LSTM Hybrid', 'model': lstm_hybrid_model()},\n",
    "    #{'name': 'LSTM Hybrid2', 'model': lstm_hybrid_model()},\n",
    "    #{'name': 'SVM BoW', 'model': svm_bow_model()},\n",
    "    #{'name': 'SVM TFIDF', 'model': svm_tfidf_model()},\n",
    "    #{'name': 'SVM W2V', 'model': svm_w2v_model(pt_model_w2v)},\n",
    "    #{'name': 'SVM Hybrid', 'model': svm_hybrid_model(pt_model_w2v)},\n",
    "    #{'name': 'SVM Hybrid', 'model': svm_hybrid2_model(pt_model_w2v)}\n",
    "]"
   ]
  },
  {
   "cell_type": "code",
   "execution_count": 14,
   "metadata": {},
   "outputs": [
    {
     "data": {
      "text/plain": [
       "(3464, 7)"
      ]
     },
     "execution_count": 14,
     "metadata": {},
     "output_type": "execute_result"
    }
   ],
   "source": [
    "chave_y.shape"
   ]
  },
  {
   "cell_type": "code",
   "execution_count": null,
   "metadata": {
    "scrolled": false
   },
   "outputs": [],
   "source": [
    "results = run_benchmark(models, chave_X, chave_y, k=2, n=1000, to_ok_=2)"
   ]
  },
  {
   "cell_type": "code",
   "execution_count": null,
   "metadata": {},
   "outputs": [
    {
     "name": "stdout",
     "output_type": "stream",
     "text": [
      "\n",
      "Train: 40 Test: 3424:   LSTM BoW .....\n",
      "Train: 80 Test: 3384:   LSTM BoW .....\n",
      "Train: 120 Test: 3344:   LSTM BoW .....\n",
      "Train: 160 Test: 3304:   LSTM BoW .....\n",
      "Train: 200 Test: 3264:   LSTM BoW .....\n",
      "Train: 240 Test: 3224:   LSTM BoW .....\n",
      "Train: 280 Test: 3184:   LSTM BoW .....\n",
      "Train: 320 Test: 3144:   LSTM BoW .....\n",
      "Train: 360 Test: 3104:   LSTM BoW .....\n",
      "Train: 400 Test: 3064:   LSTM BoW .....\n",
      "Train: 440 Test: 3024:   LSTM BoW .....\n",
      "Train: 480 Test: 2984:   LSTM BoW .....\n",
      "Train: 520 Test: 2944:   LSTM BoW .....\n",
      "Train: 560 Test: 2904:   LSTM BoW .....\n",
      "Train: 600 Test: 2864:   LSTM BoW .....\n",
      "Train: 640 Test: 2824:   LSTM BoW .....\n",
      "Train: 680 Test: 2784:   LSTM BoW .....\n",
      "Train: 720 Test: 2744:   LSTM BoW .....\n",
      "Train: 760 Test: 2704:   LSTM BoW .....\n",
      "Train: 800 Test: 2664:   LSTM BoW .....\n",
      "Train: 840 Test: 2624:   LSTM BoW .....\n",
      "Train: 880 Test: 2584:   LSTM BoW .....\n",
      "Train: 920 Test: 2544:   LSTM BoW .....\n",
      "Train: 960 Test: 2504:   LSTM BoW .....\n",
      "Train: 1000 Test: 2464:   LSTM BoW .....\n",
      "Train: 1040 Test: 2424:   LSTM BoW .....\n",
      "Train: 1080 Test: 2384:   LSTM BoW .....\n",
      "Train: 1120 Test: 2344:   LSTM BoW .....\n",
      "Train: 1160 Test: 2304:   LSTM BoW .....\n",
      "Train: 1200 Test: 2264:   LSTM BoW .....\n",
      "Train: 1240 Test: 2224:   LSTM BoW .....\n",
      "Train: 1280 Test: 2184:   LSTM BoW .....\n",
      "Train: 1320 Test: 2144:   LSTM BoW .....\n",
      "Train: 1360 Test: 2104:   LSTM BoW .....\n",
      "Train: 1400 Test: 2064:   LSTM BoW .....\n",
      "Train: 1440 Test: 2024:   LSTM BoW .....\n",
      "Train: 1480 Test: 1984:   LSTM BoW .....\n",
      "Train: 1520 Test: 1944:   LSTM BoW .....\n",
      "Train: 1560 Test: 1904:   LSTM BoW .....\n",
      "Train: 1600 Test: 1864:   LSTM BoW .....\n",
      "Train: 1640 Test: 1824:   LSTM BoW .....\n",
      "Train: 1680 Test: 1784:   LSTM BoW .....\n",
      "Train: 1720 Test: 1744:   LSTM BoW .....\n",
      "Train: 1760 Test: 1704:   LSTM BoW .....\n",
      "Train: 1800 Test: 1664:   LSTM BoW .....\n",
      "Train: 1840 Test: 1624:   LSTM BoW .....\n",
      "Train: 1880 Test: 1584:   LSTM BoW .....\n",
      "Train: 1920 Test: 1544:   LSTM BoW .....\n",
      "Train: 1960 Test: 1504:   LSTM BoW .....\n",
      "Train: 2000 Test: 1464:   LSTM BoW .....\n",
      "Train: 2040 Test: 1424:   LSTM BoW .....\n",
      "Train: 2080 Test: 1384:   LSTM BoW .....\n",
      "Train: 2120 Test: 1344:   LSTM BoW .....\n",
      "Train: 2160 Test: 1304:   LSTM BoW .....\n",
      "Train: 2200 Test: 1264:   LSTM BoW .....\n",
      "Train: 2240 Test: 1224:   LSTM BoW .....\n",
      "Train: 2280 Test: 1184:   LSTM BoW .....\n",
      "Train: 2320 Test: 1144:   LSTM BoW .....\n",
      "Train: 2360 Test: 1104:   LSTM BoW .....\n",
      "Train: 2400 Test: 1064:   LSTM BoW .....\n",
      "Train: 2440 Test: 1024:   LSTM BoW .....\n",
      "Train: 2480 Test: 984:   LSTM BoW .....\n",
      "Train: 2520 Test: 944:   LSTM BoW .....\n",
      "Train: 2560 Test: 904:   LSTM BoW .....\n",
      "Train: 2600 Test: 864:   LSTM BoW .....\n",
      "Train: 2640 Test: 824:   LSTM BoW .....\n",
      "Train: 2680 Test: 784:   LSTM BoW .....\n",
      "Train: 2720 Test: 744:   LSTM BoW .....\n",
      "Train: 2760 Test: 704:   LSTM BoW .....\n",
      "Train: 2800 Test: 664:   LSTM BoW .....\n",
      "Train: 2840 Test: 624:   LSTM BoW .....\n",
      "Train: 2880 Test: 584:   LSTM BoW .....\n",
      "Train: 2920 Test: 544:   LSTM BoW .....\n",
      "Train: 2960 Test: 504:   LSTM BoW .....\n",
      "Train: 3000 Test: 464:   LSTM BoW .....\n",
      "Train: 3040 Test: 424:   LSTM BoW .....\n",
      "Train: 3080 Test: 384:   LSTM BoW .....\n",
      "Train: 3120 Test: 344:   LSTM BoW .....\n",
      "Train: 3160 Test: 304:   LSTM BoW .....\n",
      "Train: 3200 Test: 264:   LSTM BoW .....\n",
      "Train: 3240 Test: 224:   LSTM BoW .....\n",
      "Run time benchmark: 4464.70454454422\n",
      "qc_rna_results_3464_241218loop_LSTM BoW.csv saved\n",
      "\n",
      "Train: 40 Test: 3424:   LSTM TFIDF .....\n",
      "Train: 80 Test: 3384:   LSTM TFIDF .....\n",
      "Train: 120 Test: 3344:   LSTM TFIDF .....\n",
      "Train: 160 Test: 3304:   LSTM TFIDF .....\n",
      "Train: 200 Test: 3264:   LSTM TFIDF .....\n",
      "Train: 240 Test: 3224:   LSTM TFIDF .....\n",
      "Train: 280 Test: 3184:   LSTM TFIDF .....\n",
      "Train: 320 Test: 3144:   LSTM TFIDF .....\n",
      "Train: 360 Test: 3104:   LSTM TFIDF .....\n",
      "Train: 400 Test: 3064:   LSTM TFIDF .....\n",
      "Train: 440 Test: 3024:   LSTM TFIDF .....\n",
      "Train: 480 Test: 2984:   LSTM TFIDF .....\n",
      "Train: 520 Test: 2944:   LSTM TFIDF .....\n",
      "Train: 560 Test: 2904:   LSTM TFIDF .....\n",
      "Train: 600 Test: 2864:   LSTM TFIDF .....\n",
      "Train: 640 Test: 2824:   LSTM TFIDF .....\n",
      "Train: 680 Test: 2784:   LSTM TFIDF .....\n",
      "Train: 720 Test: 2744:   LSTM TFIDF .....\n",
      "Train: 760 Test: 2704:   LSTM TFIDF .....\n",
      "Train: 800 Test: 2664:   LSTM TFIDF .....\n",
      "Train: 840 Test: 2624:   LSTM TFIDF .....\n",
      "Train: 880 Test: 2584:   LSTM TFIDF .....\n",
      "Train: 920 Test: 2544:   LSTM TFIDF .....\n",
      "Train: 960 Test: 2504:   LSTM TFIDF .....\n",
      "Train: 1000 Test: 2464:   LSTM TFIDF .....\n",
      "Train: 1040 Test: 2424:   LSTM TFIDF .....\n",
      "Train: 1080 Test: 2384:   LSTM TFIDF .....\n",
      "Train: 1120 Test: 2344:   LSTM TFIDF .....\n",
      "Train: 1160 Test: 2304:   LSTM TFIDF .....\n",
      "Train: 1200 Test: 2264:   LSTM TFIDF .....\n",
      "Train: 1240 Test: 2224:   LSTM TFIDF .....\n",
      "Train: 1280 Test: 2184:   LSTM TFIDF .....\n",
      "Train: 1320 Test: 2144:   LSTM TFIDF .....\n",
      "Train: 1360 Test: 2104:   LSTM TFIDF .....\n",
      "Train: 1400 Test: 2064:   LSTM TFIDF .....\n",
      "Train: 1440 Test: 2024:   LSTM TFIDF .....\n",
      "Train: 1480 Test: 1984:   LSTM TFIDF .....\n",
      "Train: 1520 Test: 1944:   LSTM TFIDF .....\n",
      "Train: 1560 Test: 1904:   LSTM TFIDF .....\n",
      "Train: 1600 Test: 1864:   LSTM TFIDF .....\n",
      "Train: 1640 Test: 1824:   LSTM TFIDF .....\n",
      "Train: 1680 Test: 1784:   LSTM TFIDF .....\n",
      "Train: 1720 Test: 1744:   LSTM TFIDF .....\n",
      "Train: 1760 Test: 1704:   LSTM TFIDF .....\n",
      "Train: 1800 Test: 1664:   LSTM TFIDF .....\n",
      "Train: 1840 Test: 1624:   LSTM TFIDF .....\n",
      "Train: 1880 Test: 1584:   LSTM TFIDF .....\n",
      "Train: 1920 Test: 1544:   LSTM TFIDF .....\n",
      "Train: 1960 Test: 1504:   LSTM TFIDF .....\n",
      "Train: 2000 Test: 1464:   LSTM TFIDF .....\n",
      "Train: 2040 Test: 1424:   LSTM TFIDF .....\n",
      "Train: 2080 Test: 1384:   LSTM TFIDF .....\n",
      "Train: 2120 Test: 1344:   LSTM TFIDF .....\n",
      "Train: 2160 Test: 1304:   LSTM TFIDF .....\n",
      "Train: 2200 Test: 1264:   LSTM TFIDF .....\n",
      "Train: 2240 Test: 1224:   LSTM TFIDF .....\n",
      "Train: 2280 Test: 1184:   LSTM TFIDF .....\n",
      "Train: 2320 Test: 1144:   LSTM TFIDF .....\n",
      "Train: 2360 Test: 1104:   LSTM TFIDF .....\n",
      "Train: 2400 Test: 1064:   LSTM TFIDF .....\n",
      "Train: 2440 Test: 1024:   LSTM TFIDF .....\n",
      "Train: 2480 Test: 984:   LSTM TFIDF .....\n",
      "Train: 2520 Test: 944:   LSTM TFIDF .....\n",
      "Train: 2560 Test: 904:   LSTM TFIDF .....\n",
      "Train: 2600 Test: 864:   LSTM TFIDF .....\n",
      "Train: 2640 Test: 824:   LSTM TFIDF .....\n",
      "Train: 2680 Test: 784:   LSTM TFIDF .....\n",
      "Train: 2720 Test: 744:   LSTM TFIDF .....\n",
      "Train: 2760 Test: 704:   LSTM TFIDF .....\n",
      "Train: 2800 Test: 664:   LSTM TFIDF .....\n",
      "Train: 2840 Test: 624:   LSTM TFIDF .....\n",
      "Train: 2880 Test: 584:   LSTM TFIDF .....\n",
      "Train: 2920 Test: 544:   LSTM TFIDF .....\n",
      "Train: 2960 Test: 504:   LSTM TFIDF .....\n",
      "Train: 3000 Test: 464:   LSTM TFIDF .....\n",
      "Train: 3040 Test: 424:   LSTM TFIDF .....\n",
      "Train: 3080 Test: 384:   LSTM TFIDF .....\n",
      "Train: 3120 Test: 344:   LSTM TFIDF .....\n",
      "Train: 3160 Test: 304:   LSTM TFIDF .....\n",
      "Train: 3200 Test: 264:   LSTM TFIDF .....\n",
      "Train: 3240 Test: 224:   LSTM TFIDF .....\n",
      "Run time benchmark: 4520.9564163684845\n",
      "qc_rna_results_3464_241218loop_LSTM TFIDF.csv saved\n",
      "\n",
      "Train: 40 Test: 3424:   LSTM W2V .....\n",
      "Train: 80 Test: 3384:   LSTM W2V .....\n",
      "Train: 120 Test: 3344:   LSTM W2V .....\n",
      "Train: 160 Test: 3304:   LSTM W2V .....\n",
      "Train: 200 Test: 3264:   LSTM W2V .....\n",
      "Train: 240 Test: 3224:   LSTM W2V .....\n",
      "Train: 280 Test: 3184:   LSTM W2V .....\n",
      "Train: 320 Test: 3144:   LSTM W2V .....\n",
      "Train: 360 Test: 3104:   LSTM W2V .....\n",
      "Train: 400 Test: 3064:   LSTM W2V .....\n",
      "Train: 440 Test: 3024:   LSTM W2V .....\n",
      "Train: 480 Test: 2984:   LSTM W2V .....\n",
      "Train: 520 Test: 2944:   LSTM W2V .....\n",
      "Train: 560 Test: 2904:   LSTM W2V .....\n",
      "Train: 600 Test: 2864:   LSTM W2V .....\n",
      "Train: 640 Test: 2824:   LSTM W2V .....\n",
      "Train: 680 Test: 2784:   LSTM W2V .....\n",
      "Train: 720 Test: 2744:   LSTM W2V .....\n",
      "Train: 760 Test: 2704:   LSTM W2V .....\n",
      "Train: 800 Test: 2664:   LSTM W2V .....\n",
      "Train: 840 Test: 2624:   LSTM W2V .....\n",
      "Train: 880 Test: 2584:   LSTM W2V .....\n",
      "Train: 920 Test: 2544:   LSTM W2V .....\n",
      "Train: 960 Test: 2504:   LSTM W2V .....\n",
      "Train: 1000 Test: 2464:   LSTM W2V .....\n",
      "Train: 1040 Test: 2424:   LSTM W2V .....\n",
      "Train: 1080 Test: 2384:   LSTM W2V .....\n",
      "Train: 1120 Test: 2344:   LSTM W2V .....\n",
      "Train: 1160 Test: 2304:   LSTM W2V .....\n",
      "Train: 1200 Test: 2264:   LSTM W2V .....\n",
      "Train: 1240 Test: 2224:   LSTM W2V .....\n",
      "Train: 1280 Test: 2184:   LSTM W2V .....\n"
     ]
    },
    {
     "name": "stdout",
     "output_type": "stream",
     "text": [
      "Train: 1320 Test: 2144:   LSTM W2V .....\n",
      "Train: 1360 Test: 2104:   LSTM W2V .....\n",
      "Train: 1400 Test: 2064:   LSTM W2V .....\n",
      "Train: 1440 Test: 2024:   LSTM W2V .....\n",
      "Train: 1480 Test: 1984:   LSTM W2V .....\n",
      "Train: 1520 Test: 1944:   LSTM W2V .....\n",
      "Train: 1560 Test: 1904:   LSTM W2V .....\n",
      "Train: 1600 Test: 1864:   LSTM W2V .....\n",
      "Train: 1640 Test: 1824:   LSTM W2V .....\n",
      "Train: 1680 Test: 1784:   LSTM W2V .....\n",
      "Train: 1720 Test: 1744:   LSTM W2V .....\n",
      "Train: 1760 Test: 1704:   LSTM W2V .....\n",
      "Train: 1800 Test: 1664:   LSTM W2V .....\n",
      "Train: 1840 Test: 1624:   LSTM W2V .....\n",
      "Train: 1880 Test: 1584:   LSTM W2V .....\n",
      "Train: 1920 Test: 1544:   LSTM W2V .....\n",
      "Train: 1960 Test: 1504:   LSTM W2V .....\n",
      "Train: 2000 Test: 1464:   LSTM W2V .....\n",
      "Train: 2040 Test: 1424:   LSTM W2V .....\n",
      "Train: 2080 Test: 1384:   LSTM W2V .....\n",
      "Train: 2120 Test: 1344:   LSTM W2V .....\n",
      "Train: 2160 Test: 1304:   LSTM W2V .....\n",
      "Train: 2200 Test: 1264:   LSTM W2V .....\n",
      "Train: 2240 Test: 1224:   LSTM W2V .....\n",
      "Train: 2280 Test: 1184:   LSTM W2V .....\n",
      "Train: 2320 Test: 1144:   LSTM W2V .....\n",
      "Train: 2360 Test: 1104:   LSTM W2V .....\n",
      "Train: 2400 Test: 1064:   LSTM W2V .....\n",
      "Train: 2440 Test: 1024:   LSTM W2V .....\n",
      "Train: 2480 Test: 984:   LSTM W2V .....\n",
      "Train: 2520 Test: 944:   LSTM W2V .....\n",
      "Train: 2560 Test: 904:   LSTM W2V .....\n",
      "Train: 2600 Test: 864:   LSTM W2V .....\n",
      "Train: 2640 Test: 824:   LSTM W2V .....\n",
      "Train: 2680 Test: 784:   LSTM W2V .....\n",
      "Train: 2720 Test: 744:   LSTM W2V .....\n",
      "Train: 2760 Test: 704:   LSTM W2V .....\n",
      "Train: 2800 Test: 664:   LSTM W2V .....\n",
      "Train: 2840 Test: 624:   LSTM W2V .....\n",
      "Train: 2880 Test: 584:   LSTM W2V .....\n",
      "Train: 2920 Test: 544:   LSTM W2V .....\n",
      "Train: 2960 Test: 504:   LSTM W2V .....\n",
      "Train: 3000 Test: 464:   LSTM W2V .....\n",
      "Train: 3040 Test: 424:   LSTM W2V .....\n",
      "Train: 3080 Test: 384:   LSTM W2V .....\n",
      "Train: 3120 Test: 344:   LSTM W2V .....\n",
      "Train: 3160 Test: 304:   LSTM W2V .....\n",
      "Train: 3200 Test: 264:   LSTM W2V .....\n",
      "Train: 3240 Test: 224:   LSTM W2V .....\n",
      "Run time benchmark: 3833.3108196258545\n",
      "qc_rna_results_3464_241218loop_LSTM W2V.csv saved\n",
      "\n",
      "Train: 40 Test: 3424:   LSTM Hybrid .....\n",
      "Train: 80 Test: 3384:   LSTM Hybrid .....\n",
      "Train: 120 Test: 3344:   LSTM Hybrid .....\n",
      "Train: 160 Test: 3304:   LSTM Hybrid .....\n",
      "Train: 200 Test: 3264:   LSTM Hybrid .....\n",
      "Train: 240 Test: 3224:   LSTM Hybrid ."
     ]
    }
   ],
   "source": [
    "models = [\n",
    "        {'name': 'LSTM BoW', 'model': lstm_bow_model()},\n",
    "        {'name': 'LSTM TFIDF', 'model': lstm_bow_model()},\n",
    "        {'name': 'LSTM W2V', 'model': lstm_w2v_model()},\n",
    "        {'name': 'LSTM Hybrid', 'model': lstm_hybrid_model()},\n",
    "        {'name': 'LSTM Hybrid A', 'model': lstm_hybrid_model()},\n",
    "        \n",
    "        ]\n",
    "\n",
    "for model_ in models:\n",
    "    results = run_benchmark([model_], chave_X, chave_y, to_ok_=1, lstm_=True)\n",
    "    results.to_csv('qc_rna_results_3464_251218loop_'+model_['name']+'.csv')\n",
    "    print('qc_rna_results_3464_241218loop_'+model_['name']+'.csv saved')"
   ]
  },
  {
   "cell_type": "code",
   "execution_count": 18,
   "metadata": {},
   "outputs": [],
   "source": [
    "results.to_csv('qc_rna_results_3464_241218*.csv')"
   ]
  },
  {
   "cell_type": "markdown",
   "metadata": {},
   "source": [
    "## Run benchmark"
   ]
  },
  {
   "cell_type": "code",
   "execution_count": 26,
   "metadata": {},
   "outputs": [],
   "source": [
    "import numpy as np\n",
    "from sklearn.model_selection import ShuffleSplit\n",
    "from sklearn.metrics import accuracy_score, f1_score, precision_score, recall_score, confusion_matrix\n",
    "import time\n",
    "import pandas as pd\n",
    "\n",
    "import tensorflow as tf\n",
    "config = tf.ConfigProto()\n",
    "config.gpu_options.allocator_type = 'BFC'\n",
    "sess = tf.Session(config = config)\n",
    "\n",
    "from keras import backend as K\n",
    "K.set_session(sess)\n",
    "\n",
    "\n",
    "\n",
    "def run_benchmark(models, X, y, n=40, k=5, minimum_test=200, random_state=0, \n",
    "                  metric_average=\"macro\", to_ok_=0, lstm_=False):\n",
    "    \n",
    "    start_benchmark = time.time()\n",
    "    \n",
    "    size_train = 0\n",
    "    results = []\n",
    "    \n",
    "    while (size_train + n) <= (len(X) - minimum_test):\n",
    "        \n",
    "        size_train += n\n",
    "        size_test = len(X) - size_train\n",
    "        print ('\\nTrain:', size_train, 'Test:', size_test, end=': ')\n",
    "        \n",
    "        rs = ShuffleSplit(n_splits=k, train_size=size_train, test_size=size_test, \n",
    "                          random_state=random_state)\n",
    "        \n",
    "        for model in models:\n",
    "            \n",
    "            print(' ', model['name'], end=' ')\n",
    "            \n",
    "            accuracy = []\n",
    "            precision = []\n",
    "            recall = []\n",
    "            f1 = []\n",
    "            confusion = []\n",
    "            execution_time = []\n",
    "            test_time = []\n",
    "            \n",
    "            if lstm_:\n",
    "                if model['name'] == 'LSTM BoW':\n",
    "                    X = chave_X_bow\n",
    "                elif model['name'] == 'LSTM TFIDF':\n",
    "                    X = chave_X_tfidf\n",
    "                elif model['name'] == 'LSTM W2V':\n",
    "                    X = chave_X_w2v\n",
    "                elif model['name'] == 'LSTM Hybrid A':\n",
    "                    X = chave_X_hybrid\n",
    "                elif model['name'] == 'LSTM Hybrid':\n",
    "                    X = chave_X_hybrid2\n",
    "                else:\n",
    "                    print('ERRO MODEL: ', model['name'])\n",
    "                    break\n",
    "\n",
    "            for train_indexs, test_indexs in rs.split(X):\n",
    "                \n",
    "                print('.', end='')\n",
    "\n",
    "                x_train = X[train_indexs]\n",
    "                y_train = y[train_indexs]\n",
    "                x_test = X[test_indexs]\n",
    "                y_test = y[test_indexs]\n",
    "                \n",
    "                \n",
    "                if lstm_:\n",
    "                    start_time = time.time()\n",
    "                    model_ = model['model'].fit(x_train, y_train, verbose=0, epochs=10)\n",
    "                    end_time = time.time() - start_time\n",
    "                    execution_time.append(end_time)\n",
    "                else:\n",
    "                    start_time = time.time()\n",
    "                    model_ = model['model'].fit(x_train, y_train)\n",
    "                    end_time = time.time() - start_time\n",
    "                    execution_time.append(end_time)\n",
    "                \n",
    "                start_time = time.time()\n",
    "                result = model['model'].predict(x_test)\n",
    "                end_time = time.time() - start_time\n",
    "                test_time.append(end_time)\n",
    "                \n",
    "                if to_ok_ == 1:\n",
    "                    result = to_ok(result)   # Remove to_ok\n",
    "                    result = result.argmax(axis=1)  # Remove\n",
    "                    y_test = y_test.argmax(axis=1)  # Remove\n",
    "                elif to_ok_ == 2:\n",
    "                    y_test = to_ok2(y_test)\n",
    "                \n",
    "                accuracy.append(accuracy_score(result, y_test))\n",
    "                precision.append(precision_score(result, y_test, average=metric_average))\n",
    "                recall.append(recall_score(result, y_test, average=metric_average))\n",
    "                f1.append(f1_score(result, y_test, average=metric_average))\n",
    "                confusion.append(confusion_matrix(result, y_test))\n",
    "\n",
    "            results.append({'Model': model['name'], \n",
    "                          'accuracy': np.mean(accuracy),\n",
    "                          'precision': np.mean(precision),\n",
    "                          'recall': np.mean(recall),\n",
    "                          'f1': np.mean(f1),\n",
    "                          'confusion': np.mean(confusion, axis=0),\n",
    "                          'train_size': size_train,\n",
    "                          'execution_time': np.mean(execution_time),\n",
    "                          'test_time': np.mean(test_time)})\n",
    "    print('')\n",
    "    aux = time.time() - start_benchmark\n",
    "    print('Run time benchmark:', aux)\n",
    "    return pd.DataFrame(results)"
   ]
  },
  {
   "cell_type": "markdown",
   "metadata": {},
   "source": [
    "### Train and Test"
   ]
  },
  {
   "cell_type": "markdown",
   "metadata": {},
   "source": [
    "#### lstm"
   ]
  },
  {
   "cell_type": "code",
   "execution_count": null,
   "metadata": {},
   "outputs": [],
   "source": [
    "%%time\n",
    "import numpy as np\n",
    "from sklearn.model_selection import ShuffleSplit\n",
    "from sklearn.metrics import accuracy_score, f1_score, precision_score, recall_score, confusion_matrix\n",
    "import time\n",
    "\n",
    "X_ = np.array(chave_X)\n",
    "y = np.array(chave_y)\n",
    "n = 40\n",
    "k = 5  # k-folds\n",
    "minimum_test = 200\n",
    "\n",
    "size_train = 0\n",
    "results = []\n",
    "\n",
    "while (size_train + n) <= (len(X_) - minimum_test):\n",
    "    size_train += n\n",
    "    size_test = len(X_) - size_train\n",
    "    print ('\\nTrain:', size_train, 'Test:', size_test, end=': ')\n",
    "    rs = ShuffleSplit(n_splits=k, train_size=size_train, test_size=size_test, random_state=0)\n",
    "    for model in models:\n",
    "        print(' ', model['name'], end=' ')\n",
    "        accuracy = []\n",
    "        precision = []\n",
    "        recall = []\n",
    "        f1 = []\n",
    "        confusion = []\n",
    "        execution_time = []\n",
    "        test_time = []\n",
    "        \n",
    "        if model['name'] == 'LSTM BoW':\n",
    "            X = chave_X_bow\n",
    "        elif model['name'] == 'LSTM TFIDF':\n",
    "            X = chave_X_tfidf\n",
    "        elif model['name'] == 'LSTM W2V':\n",
    "            X = chave_X_w2v\n",
    "        elif model['name'] == 'LSTM Hybrid':\n",
    "            X = chave_X_hybrid\n",
    "        elif model['name'] == 'LSTM Hybrid2':\n",
    "            X = chave_X_hybrid2\n",
    "        else:\n",
    "            print('ERRO MODEL: ', model['name'])\n",
    "            break\n",
    "        \n",
    "        for train_indexs, test_indexs in rs.split(X):\n",
    "            print('.', end='')\n",
    "            \n",
    "            x_train = X[train_indexs]\n",
    "            y_train = y[train_indexs]\n",
    "            x_test = X[test_indexs]\n",
    "            y_test = y[test_indexs]\n",
    "            \n",
    "            start_time = time.time()\n",
    "            model_ = model['model'].fit(x_train, y_train, epochs=10,verbose=0)\n",
    "            end_time = time.time() - start_time\n",
    "            execution_time.append(end_time)\n",
    "            start_time = time.time()\n",
    "            rr = model['model'].predict(x_test)\n",
    "            end_time = time.time() - start_time\n",
    "            test_time.append(end_time)\n",
    "            result = to_ok(rr)   # Remove to_ok\n",
    "            result = result.argmax(axis=1)  # Remove\n",
    "            y_test = y_test.argmax(axis=1)  # Remove\n",
    "            #print(result, '\\n--\\n', y_test)\n",
    "            score = {}\n",
    "            accuracy.append(accuracy_score(result, y_test))\n",
    "            precision.append(precision_score(result, y_test, average=\"macro\"))\n",
    "            recall.append(recall_score(result, y_test, average=\"macro\"))\n",
    "            f1.append(f1_score(result, y_test, average=\"macro\"))\n",
    "            confusion.append(confusion_matrix(result, y_test))\n",
    "        \n",
    "        results.append({'Model': model['name'], \n",
    "                      'accuracy': np.mean(accuracy),\n",
    "                      'precision': np.mean(precision),\n",
    "                      'recall': np.mean(recall),\n",
    "                      'f1': np.mean(f1),\n",
    "                      'confusion': np.mean(confusion, axis=0),\n",
    "                      'train_size': size_train,\n",
    "                      'execution_time': np.mean(execution_time),\n",
    "                      'test_time': np.mean(test_time)})\n",
    "print('')"
   ]
  },
  {
   "cell_type": "markdown",
   "metadata": {},
   "source": [
    "#### others"
   ]
  },
  {
   "cell_type": "code",
   "execution_count": 47,
   "metadata": {},
   "outputs": [
    {
     "name": "stdout",
     "output_type": "stream",
     "text": [
      "\n",
      "Train: 400 Test: 2573:   SVM BoW .....  SVM TFIDF .....  SVM W2V .....  SVM Hybrid .....  SVM Hybrid B .....\n",
      "Train: 800 Test: 2173:   SVM BoW .....  SVM TFIDF .....  SVM W2V .....  SVM Hybrid .....  SVM Hybrid B .....\n",
      "Train: 1200 Test: 1773:   SVM BoW .....  SVM TFIDF .....  SVM W2V .....  SVM Hybrid .....  SVM Hybrid B .....\n",
      "Train: 1600 Test: 1373:   SVM BoW .....  SVM TFIDF .....  SVM W2V .....  SVM Hybrid .....  SVM Hybrid B .....\n",
      "Train: 2000 Test: 973:   SVM BoW .....  SVM TFIDF .....  SVM W2V .....  SVM Hybrid .....  SVM Hybrid B .....\n",
      "Train: 2400 Test: 573:   SVM BoW .....  SVM TFIDF .....  SVM W2V .....  SVM Hybrid .....  SVM Hybrid B .....\n",
      "Wall time: 1min 10s\n"
     ]
    }
   ],
   "source": [
    "%%time\n",
    "import numpy as np\n",
    "from sklearn.model_selection import ShuffleSplit\n",
    "from sklearn.metrics import accuracy_score, f1_score, precision_score, recall_score, confusion_matrix\n",
    "import time\n",
    "\n",
    "X = np.array(chave_X)\n",
    "y = np.array(chave_y)\n",
    "n = 400  # Training size interval  TODO colocar 40\n",
    "k = 5  # k-folds\n",
    "minimum_test = 200\n",
    "\n",
    "size_train = 0\n",
    "results = []\n",
    "\n",
    "\n",
    "while (size_train + n) <= (len(X) - minimum_test):\n",
    "    size_train += n\n",
    "    size_test = len(X) - size_train\n",
    "    print ('\\nTrain:', size_train, 'Test:', size_test, end=': ')\n",
    "    rs = ShuffleSplit(n_splits=k, train_size=size_train, test_size=size_test, random_state=2)\n",
    "    for model in models:\n",
    "        print(' ', model['name'], end=' ')\n",
    "        accuracy = []\n",
    "        precision = []\n",
    "        recall = []\n",
    "        f1 = []\n",
    "        confusion = []\n",
    "        execution_time = []\n",
    "        test_time = []\n",
    "        \n",
    "        for train_indexs, test_indexs in rs.split(X):\n",
    "            print('.', end='')\n",
    "            \n",
    "            x_train = X[train_indexs]\n",
    "            y_train = y[train_indexs]\n",
    "            x_test = X[test_indexs]\n",
    "            y_test = y[test_indexs]\n",
    "            start_time = time.time()\n",
    "            model_ = model['model'].fit(x_train, y_train)\n",
    "            end_time = time.time() - start_time\n",
    "            execution_time.append(end_time)\n",
    "            start_time = time.time()\n",
    "            result = model['model'].predict(x_test)   # Remove to_ok\n",
    "            end_time = time.time() - start_time\n",
    "            test_time.append(end_time)\n",
    "            #result = result.argmax(axis=1)  # Remove\n",
    "            #y_test = y_test.argmax(axis=1)  # Remove\n",
    "            #print(result, '\\n--\\n', y_test)\n",
    "            score = {}\n",
    "            accuracy.append(accuracy_score(result, y_test))\n",
    "            precision.append(precision_score(result, y_test, average=\"macro\"))\n",
    "            recall.append(recall_score(result, y_test, average=\"macro\"))\n",
    "            f1.append(f1_score(result, y_test, average=\"macro\"))\n",
    "            confusion.append(confusion_matrix(result, y_test))\n",
    "        \n",
    "        results.append({'Model': model['name'], \n",
    "                      'accuracy': np.mean(accuracy),\n",
    "                      'precision': np.mean(precision),\n",
    "                      'recall': np.mean(recall),\n",
    "                      'f1': np.mean(f1),\n",
    "                      'confusion': np.mean(confusion, axis=0),\n",
    "                      'train_size': size_train,\n",
    "                      'execution_time': np.mean(execution_time),\n",
    "                      'test_time': np.mean(test_time)})\n",
    "print('')"
   ]
  },
  {
   "cell_type": "code",
   "execution_count": 23,
   "metadata": {},
   "outputs": [],
   "source": [
    "def to_ok(values):\n",
    "    out = []\n",
    "    for value in values:\n",
    "        max_ = 0\n",
    "        i_ = 0\n",
    "        out_ = []\n",
    "        for i, v in enumerate(value):\n",
    "            if v > max_:\n",
    "                max_ = v\n",
    "                i_ = i\n",
    "            out_.append(0.)\n",
    "        out_[i_] = 1.\n",
    "        out.append(out_)\n",
    "    return np.array(out)\n",
    "\n",
    "\n",
    "def to_ok2(values):\n",
    "    ret = []\n",
    "    for v in values:\n",
    "        ret.append(v.tolist().index(1.))\n",
    "    return np.array(ret)\n",
    "\n",
    "\n",
    "def to_ok3(values, max_=7):\n",
    "    ret = []\n",
    "    for v in values:\n",
    "        new_ = np.zeros(max_).tolist()\n",
    "        new_[v] = 1.\n",
    "        ret.append(new_)\n",
    "    return np.array(ret)"
   ]
  },
  {
   "cell_type": "markdown",
   "metadata": {},
   "source": [
    "### Show Results"
   ]
  },
  {
   "cell_type": "code",
   "execution_count": 98,
   "metadata": {
    "scrolled": true
   },
   "outputs": [
    {
     "data": {
      "text/plain": [
       "[Text(0, 0.5, 'F1-Score')]"
      ]
     },
     "execution_count": 98,
     "metadata": {},
     "output_type": "execute_result"
    },
    {
     "data": {
      "image/png": "[encoded data removed]",
      "text/plain": [
       "<Figure size 576x288 with 1 Axes>"
      ]
     },
     "metadata": {
      "needs_background": "light"
     },
     "output_type": "display_data"
    }
   ],
   "source": [
    "import pandas as pd\n",
    "import seaborn as sns\n",
    "%matplotlib inline\n",
    "import matplotlib.pyplot as plt\n",
    "\n",
    "names = [model['name'] for model in models]\n",
    "#df = pd.DataFrame(results)\n",
    "\n",
    "df = results\n",
    "\n",
    "aux = df[df.Model.map(lambda x: x in names)]\n",
    "\n",
    "sorterIndex = dict(zip(names, range(len(names))))\n",
    "aux['models_sort'] = aux['Model'].map(sorterIndex)\n",
    "aux.sort_values(['Model'], \\\n",
    "        ascending = [1], inplace = True)\n",
    "aux.drop('models_sort', 1, inplace = True)\n",
    "\n",
    "\n",
    "col_list = [\"black\", \"black\", \"black\", \"black\", \"black\"]\n",
    "col_list_palette = sns.xkcd_palette(col_list)\n",
    "#sns.set_palette(col_list_palette)\n",
    "sns.set_palette(sns.color_palette(\"muted\", 5))\n",
    "\n",
    "\n",
    "#df = df.drop('accuracy', 1).drop('precision', 1).drop('recall', 1).drop('train_size', 1)\n",
    "\n",
    "plt.figure(figsize=(8, 4))\n",
    "\n",
    "fig = sns.pointplot(x='train_size', y='f1', hue='Model', \n",
    "                    data=df[df.Model.map(lambda x: x in names)],\n",
    "                    #markers=['o',7,'p','s','x'],\n",
    "                    markers=['','','','',''],\n",
    "                    lineheight=1\n",
    "                   )\n",
    "\n",
    "for ind, label in enumerate(fig.get_xticklabels()):\n",
    "    if ind == 0 or ind == 12 or ind == 26 or ind == 39 or ind == 52:\n",
    "        label.set_visible(True)\n",
    "    else:\n",
    "        label.set_visible(False)\n",
    "plt.setp(fig.lines,linewidth=1.5)\n",
    "sns.set_context(\"notebook\", font_scale=1.5)\n",
    "fig.set(ylabel=\"f1\")\n",
    "fig.set(xlabel=\"Size of the training sample\")\n",
    "fig.set(ylabel=\"F1-Score\")"
   ]
  },
  {
   "cell_type": "code",
   "execution_count": 99,
   "metadata": {},
   "outputs": [
    {
     "data": {
      "text/html": [
       "<div>\n",
       "<style scoped>\n",
       "    .dataframe tbody tr th:only-of-type {\n",
       "        vertical-align: middle;\n",
       "    }\n",
       "\n",
       "    .dataframe tbody tr th {\n",
       "        vertical-align: top;\n",
       "    }\n",
       "\n",
       "    .dataframe thead th {\n",
       "        text-align: right;\n",
       "    }\n",
       "</style>\n",
       "<table border=\"1\" class=\"dataframe\">\n",
       "  <thead>\n",
       "    <tr style=\"text-align: right;\">\n",
       "      <th></th>\n",
       "      <th>Model</th>\n",
       "      <th>f1</th>\n",
       "      <th>train_size</th>\n",
       "    </tr>\n",
       "  </thead>\n",
       "  <tbody>\n",
       "    <tr>\n",
       "      <th>0</th>\n",
       "      <td>MLP BoW</td>\n",
       "      <td>0.771713</td>\n",
       "      <td>1000</td>\n",
       "    </tr>\n",
       "    <tr>\n",
       "      <th>1</th>\n",
       "      <td>MLP BoW</td>\n",
       "      <td>0.794390</td>\n",
       "      <td>2000</td>\n",
       "    </tr>\n",
       "    <tr>\n",
       "      <th>2</th>\n",
       "      <td>MLP BoW</td>\n",
       "      <td>0.811885</td>\n",
       "      <td>3000</td>\n",
       "    </tr>\n",
       "  </tbody>\n",
       "</table>\n",
       "</div>"
      ],
      "text/plain": [
       "     Model        f1  train_size\n",
       "0  MLP BoW  0.771713        1000\n",
       "1  MLP BoW  0.794390        2000\n",
       "2  MLP BoW  0.811885        3000"
      ]
     },
     "execution_count": 99,
     "metadata": {},
     "output_type": "execute_result"
    }
   ],
   "source": [
    "results[['Model', 'f1', 'train_size']]"
   ]
  },
  {
   "cell_type": "code",
   "execution_count": 98,
   "metadata": {},
   "outputs": [
    {
     "data": {
      "image/png": "[encoded data removed]",
      "text/plain": [
       "<matplotlib.figure.Figure at 0x1c30ee61c18>"
      ]
     },
     "metadata": {},
     "output_type": "display_data"
    },
    {
     "data": {
      "image/png": "[encoded data removed]",
      "text/plain": [
       "<matplotlib.figure.Figure at 0x1c30ecb1978>"
      ]
     },
     "metadata": {},
     "output_type": "display_data"
    },
    {
     "data": {
      "image/png": "[encoded data removed]",
      "text/plain": [
       "<matplotlib.figure.Figure at 0x1c30dc2fe10>"
      ]
     },
     "metadata": {},
     "output_type": "display_data"
    },
    {
     "data": {
      "image/png": "[encoded data removed]",
      "text/plain": [
       "<matplotlib.figure.Figure at 0x1c30dbf83c8>"
      ]
     },
     "metadata": {},
     "output_type": "display_data"
    },
    {
     "data": {
      "image/png": "[encoded data removed]",
      "text/plain": [
       "<matplotlib.figure.Figure at 0x1c30d696320>"
      ]
     },
     "metadata": {},
     "output_type": "display_data"
    }
   ],
   "source": [
    "aux = df[df['train_size'] == max(df['train_size'])]\n",
    "for m_ in aux[['Model', 'confusion']].values:\n",
    "    plot_confusion_matrix(m_[1], classes=models[0]['model'].classes_)"
   ]
  },
  {
   "cell_type": "code",
   "execution_count": 94,
   "metadata": {},
   "outputs": [],
   "source": [
    "t_ = df[df['train_size'] == max(df['train_size'])]['confusion'].values[0]"
   ]
  },
  {
   "cell_type": "code",
   "execution_count": 79,
   "metadata": {},
   "outputs": [
    {
     "data": {
      "text/plain": [
       "array([[117.2,   1.8,   1.2,   7.8,  11. ,   0.2],\n",
       "       [  0.4,  92.6,   1.8,   7.2,   2.4,   0.6],\n",
       "       [  0.2,   1. ,  84.6,   1.6,   1.4,   1.2],\n",
       "       [  1. ,   5. ,   0.4,  42.2,   6.2,   1.4],\n",
       "       [  2.2,   3.8,   2.2,  12.4,  92.6,   0.2],\n",
       "       [  0.2,   1.2,   0.6,   0.6,   0.2,  66.4]])"
      ]
     },
     "execution_count": 79,
     "metadata": {},
     "output_type": "execute_result"
    }
   ],
   "source": [
    "t_"
   ]
  },
  {
   "cell_type": "code",
   "execution_count": null,
   "metadata": {},
   "outputs": [],
   "source": [
    "plot_confusion_matrix(df)"
   ]
  },
  {
   "cell_type": "code",
   "execution_count": 97,
   "metadata": {},
   "outputs": [],
   "source": [
    "def plot_confusion_matrix(cm, classes, normalize=True,\n",
    "                          title='Confusion matrix', cmap=plt.cm.Blues):\n",
    "    \"\"\"\n",
    "    This function prints and plots the confusion matrix.\n",
    "    Normalization can be applied by setting `normalize=True`.\n",
    "    \"\"\"\n",
    "\n",
    "    import itertools\n",
    "    import numpy as np\n",
    "\n",
    "    if normalize:\n",
    "        cm = cm.astype('float') / cm.sum(axis=1)[:, np.newaxis]\n",
    "    \n",
    "    plt.clf()\n",
    "    plt.imshow(cm, interpolation='nearest', cmap=cmap)\n",
    "    plt.title(title)\n",
    "    plt.colorbar()\n",
    "    tick_marks = np.arange(len(classes))\n",
    "    plt.xticks(tick_marks, classes, rotation=45)\n",
    "    plt.yticks(tick_marks, classes)\n",
    "\n",
    "    fmt = '.2f' if normalize else 'd'\n",
    "    thresh = cm.max() / 2.\n",
    "    for i, j in itertools.product(range(cm.shape[0]), range(cm.shape[1])):\n",
    "        plt.text(j, i, format(cm[i, j], fmt),\n",
    "                 horizontalalignment=\"center\",\n",
    "                 color=\"white\" if cm[i, j] > thresh else \"black\")\n",
    "\n",
    "    plt.tight_layout()\n",
    "    plt.ylabel('True label')\n",
    "    plt.xlabel('Predicted label')\n",
    "    plt.show()"
   ]
  },
  {
   "cell_type": "code",
   "execution_count": 18,
   "metadata": {},
   "outputs": [],
   "source": [
    "df.to_csv('qc_svm_results.csv')"
   ]
  },
  {
   "cell_type": "code",
   "execution_count": 51,
   "metadata": {},
   "outputs": [
    {
     "data": {
      "text/plain": [
       "<matplotlib.figure.Figure at 0x25d5840af98>"
      ]
     },
     "metadata": {},
     "output_type": "display_data"
    }
   ],
   "source": [
    "plt.savefig('qc_nbbl.eps', format='eps', dpi=100)"
   ]
  },
  {
   "cell_type": "markdown",
   "metadata": {},
   "source": [
    "## UIUC PT"
   ]
  },
  {
   "cell_type": "code",
   "execution_count": 1,
   "metadata": {},
   "outputs": [],
   "source": [
    "import datasets_manager as DM\n",
    "\n",
    "\n",
    "uiuc_pt_train, uiuc_pt_test = DM.uiuc_pt_questions()"
   ]
  },
  {
   "cell_type": "code",
   "execution_count": 8,
   "metadata": {},
   "outputs": [
    {
     "name": "stdout",
     "output_type": "stream",
     "text": [
      "{'manner': 277, 'cremat': 207, 'animal': 112, 'exp': 69, 'ind': 964, 'gr': 189, 'title': 25, 'def': 421, 'date': 218, 'reason': 191, 'event': 56, 'state': 66, 'desc': 322, 'count': 363, 'other': 733, 'letter': 9, 'religion': 4, 'food': 102, 'country': 155, 'color': 39, 'termeq': 93, 'city': 129, 'body': 16, 'dismed': 104, 'mount': 21, 'money': 72, 'product': 43, 'period': 75, 'substance': 42, 'sport': 62, 'plant': 13, 'techmeth': 38, 'volsize': 14, 'instru': 10, 'abb': 16, 'speed': 9, 'word': 26, 'lang': 16, 'perc': 27, 'code': 9, 'temp': 8, 'symbol': 11, 'ord': 6, 'dist': 33, 'veh': 27, 'weight': 11, 'currency': 4}\n",
      "5457\n"
     ]
    }
   ],
   "source": [
    "classes = {}\n",
    "for q in uiuc_pt_train:\n",
    "    if q['sub_class'] not in classes:\n",
    "        classes[q['sub_class']] = 0\n",
    "    classes[q['sub_class']] += 1\n",
    "print(classes)\n",
    "c = 0\n",
    "for q in classes:\n",
    "    c += classes[q]\n",
    "print(c)"
   ]
  },
  {
   "cell_type": "code",
   "execution_count": 4,
   "metadata": {},
   "outputs": [
    {
     "name": "stdout",
     "output_type": "stream",
     "text": [
      "{'NUM': 113, 'LOC': 81, 'HUM': 65, 'DESC': 138, 'ENTY': 94, 'ABBR': 9}\n",
      "500\n"
     ]
    }
   ],
   "source": [
    "classes = {}\n",
    "for q in uiuc_pt_test:\n",
    "    if q['class'] not in classes:\n",
    "        classes[q['class']] = 0\n",
    "    classes[q['class']] += 1\n",
    "print(classes)\n",
    "c = 0\n",
    "for q in classes:\n",
    "    c += classes[q]\n",
    "print(c)"
   ]
  },
  {
   "cell_type": "markdown",
   "metadata": {},
   "source": [
    "#### X and y"
   ]
  },
  {
   "cell_type": "code",
   "execution_count": null,
   "metadata": {},
   "outputs": [],
   "source": [
    "uiuc_pt_train_X, uiuc_pt_train_y = separete_questions(uiuc_pt_train)\n",
    "uiuc_pt_test_X, uiuc_pt_test_y = separete_questions(uiuc_pt_test)"
   ]
  },
  {
   "cell_type": "markdown",
   "metadata": {},
   "source": [
    "### Models"
   ]
  },
  {
   "cell_type": "code",
   "execution_count": null,
   "metadata": {},
   "outputs": [],
   "source": [
    "models = [\n",
    "    {'name': 'SVM BoW', 'model': svm_bow_model()},\n",
    "    {'name': 'SVM TF-IDF', 'model': svm_tfidf_model()},\n",
    "    {'name': 'SVM W2V', 'model': svm_w2v_model(pt_model_w2v)},\n",
    "    {'name': 'SVM Hybrid', 'model': svm_hybrid_model(pt_model_w2v)},\n",
    "]"
   ]
  },
  {
   "cell_type": "markdown",
   "metadata": {},
   "source": [
    "### Train and Test"
   ]
  },
  {
   "cell_type": "code",
   "execution_count": null,
   "metadata": {},
   "outputs": [],
   "source": [
    "%%time\n",
    "import numpy as np\n",
    "from sklearn.model_selection import ShuffleSplit\n",
    "from sklearn.metrics import accuracy_score, f1_score, precision_score, recall_score, confusion_matrix\n",
    "\n",
    "X_train = np.array(uiuc_pt_train_X)\n",
    "y_train = np.array(uiuc_pt_train_y)\n",
    "X_test = np.array(uiuc_pt_test_X)\n",
    "y_test = np.array(uiuc_pt_test_y)\n",
    "n = 40  # Training size interval\n",
    "k = 5\n",
    "minimum_test = 800\n",
    "\n",
    "size_train = 0\n",
    "results = []\n",
    "\n",
    "while (size_train + n) <= (len(X_train) - minimum_test):\n",
    "    size_train += n\n",
    "    size_test = len(X_train) - size_train\n",
    "    print ('\\nTrain:', size_train, 'Test:', size_test, end=': ')\n",
    "    rs = ShuffleSplit(n_splits=k, train_size=size_train, test_size=size_test, random_state=0)\n",
    "    for model in models:\n",
    "        print(' ', model['name'], end=' ')\n",
    "        accuracy = []\n",
    "        precision = []\n",
    "        recall = []\n",
    "        f1 = []\n",
    "        confusion = []\n",
    "        for train_indexs, test_indexs in rs.split(X_train):\n",
    "            print('.', end='')\n",
    "            x_train_ = X_train[train_indexs]\n",
    "            y_train_ = y_train[train_indexs]\n",
    "            \n",
    "            model_ = model['model'].fit(x_train_, y_train_)\n",
    "            result = model_.predict(X_test)\n",
    "            score = {}\n",
    "            accuracy.append(accuracy_score(result, y_test))\n",
    "            precision.append(precision_score(result, y_test, average=\"macro\"))\n",
    "            recall.append(recall_score(result, y_test, average=\"macro\"))\n",
    "            f1.append(f1_score(result, y_test, average=\"macro\"))\n",
    "            confusion.append(confusion_matrix(result, y_test))\n",
    "        \n",
    "        results.append({'Model': model['name'], \n",
    "                      'accuracy': np.mean(accuracy),\n",
    "                      'precision': np.mean(precision),\n",
    "                      'recall': np.mean(recall),\n",
    "                      'f1': np.mean(f1),\n",
    "                      'confusion': np.mean(confusion, axis=0),\n",
    "                      'train_size': size_train})\n",
    "print('')"
   ]
  },
  {
   "cell_type": "markdown",
   "metadata": {},
   "source": [
    "### Show Results"
   ]
  },
  {
   "cell_type": "code",
   "execution_count": null,
   "metadata": {
    "scrolled": true
   },
   "outputs": [],
   "source": [
    "import pandas as pd\n",
    "import seaborn as sns\n",
    "%matplotlib inline\n",
    "import matplotlib.pyplot as plt\n",
    "\n",
    "names = [model['name'] for model in models]\n",
    "df = pd.DataFrame(results)\n",
    "\n",
    "aux = df[df.Model.map(lambda x: x in names)]\n",
    "\n",
    "sorterIndex = dict(zip(names, range(len(names))))\n",
    "aux['models_sort'] = aux['Model'].map(sorterIndex)\n",
    "aux.sort_values(['Model'], \\\n",
    "        ascending = [1], inplace = True)\n",
    "aux.drop('models_sort', 1, inplace = True)\n",
    "\n",
    "\n",
    "col_list = [\"black\", \"black\", \"black\", \"black\", \"black\"]\n",
    "col_list_palette = sns.xkcd_palette(col_list)\n",
    "#sns.set_palette(col_list_palette)\n",
    "sns.set_palette(sns.color_palette(\"muted\", 4))\n",
    "\n",
    "\n",
    "#df = df.drop('accuracy', 1).drop('precision', 1).drop('recall', 1).drop('train_size', 1)\n",
    "\n",
    "plt.figure(figsize=(8, 4))\n",
    "\n",
    "fig = sns.pointplot(x='train_size', y='f1', hue='Model', \n",
    "                    data=df[df.Model.map(lambda x: x in names)],\n",
    "                    #markers=['o',7,'p','s','x'],\n",
    "                    markers=['','','','',''],\n",
    "                    lineheight=1\n",
    "                   )\n",
    "\n",
    "total_ = len(uiuc_pt_train_X)\n",
    "s0 = 40\n",
    "s1 = int(1*(total_/4))\n",
    "s2 = int(2*(total_/4))\n",
    "s3 = int(3*(total_/4))\n",
    "s4 = total_\n",
    "\n",
    "for ind, label in enumerate(fig.get_xticklabels()):\n",
    "    if ind == s0 or ind == s1 or ind == s2 or ind == s3 or ind == s4:\n",
    "        label.set_visible(True)\n",
    "    else:\n",
    "        label.set_visible(False)\n",
    "plt.setp(fig.lines,linewidth=1.5)\n",
    "sns.set_context(\"notebook\", font_scale=1.5)\n",
    "fig.set(ylabel=\"f1\")\n",
    "fig.set(xlabel=\"Size of the training sample\")\n",
    "fig.set(ylabel=\"F1-Score\")"
   ]
  },
  {
   "cell_type": "markdown",
   "metadata": {},
   "source": [
    "## UIUC"
   ]
  },
  {
   "cell_type": "code",
   "execution_count": null,
   "metadata": {},
   "outputs": [],
   "source": [
    "import datasets_manager as DM\n",
    "\n",
    "\n",
    "uiuc_train, uiuc_test = DM.uiuc_questions()"
   ]
  },
  {
   "cell_type": "code",
   "execution_count": null,
   "metadata": {},
   "outputs": [],
   "source": []
  },
  {
   "cell_type": "code",
   "execution_count": null,
   "metadata": {},
   "outputs": [],
   "source": []
  },
  {
   "cell_type": "code",
   "execution_count": null,
   "metadata": {},
   "outputs": [],
   "source": [
    "def make_query(questions, stop_words):\n",
    "    ret = []\n",
    "    for question in questions:\n",
    "        text = question['question']\n",
    "        text = text.lower()\n",
    "        text = nltk.word_tokenize(text)\n",
    "        key_words = []\n",
    "        for token in text:\n",
    "            if token not in stop_words:\n",
    "                key_words.append(token)\n",
    "        question['query'] = ' '.join(key_words)\n",
    "        ret.append(question)\n",
    "    return ret"
   ]
  },
  {
   "cell_type": "markdown",
   "metadata": {},
   "source": [
    "## Teste estatístico"
   ]
  },
  {
   "cell_type": "code",
   "execution_count": null,
   "metadata": {},
   "outputs": [],
   "source": [
    "import scipy\n",
    "\n",
    "a = []\n",
    "b = []\n",
    "\n",
    "for t in table:\n",
    "    if t['Model'] == lbs[1]:\n",
    "        a.append(t['f1'])\n",
    "    if t['Model'] == lbs[3]:\n",
    "        b.append(t['f1'])\n",
    "\n",
    "scipy.stats.ttest_ind(a, b)"
   ]
  }
 ],
 "metadata": {
  "kernelspec": {
   "display_name": "Python (venv)",
   "language": "python",
   "name": "venv"
  },
  "language_info": {
   "codemirror_mode": {
    "name": "ipython",
    "version": 3
   },
   "file_extension": ".py",
   "mimetype": "text/x-python",
   "name": "python",
   "nbconvert_exporter": "python",
   "pygments_lexer": "ipython3",
   "version": "3.6.7"
  }
 },
 "nbformat": 4,
 "nbformat_minor": 2
}
