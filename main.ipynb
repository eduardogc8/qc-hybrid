{
 "cells": [
  {
   "cell_type": "markdown",
   "metadata": {},
   "source": [
    "# Question Classification"
   ]
  },
  {
   "cell_type": "markdown",
   "metadata": {},
   "source": [
    "## Load word2vec models"
   ]
  },
  {
   "cell_type": "markdown",
   "metadata": {},
   "source": [
    "#### Load the word2vec models"
   ]
  },
  {
   "cell_type": "code",
   "execution_count": 5,
   "metadata": {},
   "outputs": [],
   "source": [
    "import gensim\n",
    "from gensim.models import KeyedVectors"
   ]
  },
  {
   "cell_type": "code",
   "execution_count": 4,
   "metadata": {},
   "outputs": [
    {
     "name": "stderr",
     "output_type": "stream",
     "text": [
      "C:\\Users\\55519\\Anaconda3\\lib\\site-packages\\ipykernel_launcher.py:3: DeprecationWarning: Call to deprecated `syn0` (Attribute will be removed in 4.0.0, use self.wv.vectors instead).\n",
      "  This is separate from the ipykernel package so we can avoid doing imports until\n"
     ]
    },
    {
     "name": "stdout",
     "output_type": "stream",
     "text": [
      "Wall time: 3min 34s\n"
     ]
    }
   ],
   "source": [
    "%%time\n",
    "pt_w2v_patch = 'data/word_embedding/cbow_s300.txt'\n",
    "pt_w2v = KeyedVectors.load_word2vec_format(pt_w2v_patch, unicode_errors=\"ignore\")\n",
    "pt_model_w2v = {w: vec for w, vec in zip(pt_w2v.index2word, pt_w2v.syn0)}\n",
    "del pt_w2v"
   ]
  },
  {
   "cell_type": "code",
   "execution_count": 2,
   "metadata": {},
   "outputs": [
    {
     "ename": "NameError",
     "evalue": "name 'gensim' is not defined",
     "output_type": "error",
     "traceback": [
      "\u001b[1;31m---------------------------------------------------------------------------\u001b[0m",
      "\u001b[1;31mNameError\u001b[0m                                 Traceback (most recent call last)",
      "\u001b[1;32m<timed exec>\u001b[0m in \u001b[0;36m<module>\u001b[1;34m()\u001b[0m\n",
      "\u001b[1;31mNameError\u001b[0m: name 'gensim' is not defined"
     ]
    }
   ],
   "source": [
    "%%time\n",
    "en_w2v_patch = 'data/word_embedding/GoogleNews-vectors-negative300.bin'\n",
    "en_w2v = gensim.models.Word2Vec.load_word2vec_format(en_w2v_patch, binary=True)\n",
    "en_model_w2v = {w: vec for w, vec in zip(en_w2v.index2word, en_w2v.syn0)}\n",
    "del en_w2v"
   ]
  },
  {
   "cell_type": "markdown",
   "metadata": {},
   "source": [
    "## Util"
   ]
  },
  {
   "cell_type": "markdown",
   "metadata": {},
   "source": [
    "#### Separete the questions in data (X) and label (y)"
   ]
  },
  {
   "cell_type": "code",
   "execution_count": 9,
   "metadata": {},
   "outputs": [],
   "source": [
    "def separete_questions(questions, label_key='class'):\n",
    "    X = []\n",
    "    y = []\n",
    "    for question in questions:\n",
    "        text = question['question']\n",
    "        X.append(text)\n",
    "        y.append(question[label_key])\n",
    "    return X, y"
   ]
  },
  {
   "cell_type": "markdown",
   "metadata": {},
   "source": [
    "####  Ignore all warnings"
   ]
  },
  {
   "cell_type": "code",
   "execution_count": 6,
   "metadata": {},
   "outputs": [],
   "source": [
    "import warnings\n",
    "warnings.filterwarnings(\"ignore\")"
   ]
  },
  {
   "cell_type": "markdown",
   "metadata": {},
   "source": [
    "## Create Models"
   ]
  },
  {
   "cell_type": "markdown",
   "metadata": {},
   "source": [
    "#### SVM\n",
    "\n"
   ]
  },
  {
   "cell_type": "code",
   "execution_count": 21,
   "metadata": {},
   "outputs": [],
   "source": [
    "from sklearn.pipeline import Pipeline\n",
    "from sklearn.svm import LinearSVC\n",
    "import qc_models as QCM \n",
    "\n",
    "def svm_bow_model():\n",
    "    return Pipeline([(\"vector_model\", QCM.count_vectorizer()), (\"classifer\", LinearSVC())])\n",
    "\n",
    "def svm_tfidf_model():\n",
    "    return Pipeline([(\"vector_model\", QCM.tfidf_vectorizer()), (\"classifer\", LinearSVC())])\n",
    "\n",
    "def svm_w2v_model(w2v):\n",
    "    return Pipeline([(\"vector_model\", QCM.MeanEmbeddingVectorizer(w2v)), (\"classifer\", LinearSVC())])\n",
    "\n",
    "def svm_hybrid_model(w2v):\n",
    "    return Pipeline([(\"vector_model\", QCM.TfidfHybridVectorizer(w2v)), (\"classifer\", LinearSVC())])"
   ]
  },
  {
   "cell_type": "markdown",
   "metadata": {},
   "source": [
    "#### LSTM"
   ]
  },
  {
   "cell_type": "code",
   "execution_count": null,
   "metadata": {},
   "outputs": [],
   "source": []
  },
  {
   "cell_type": "markdown",
   "metadata": {},
   "source": [
    "#### CNN"
   ]
  },
  {
   "cell_type": "code",
   "execution_count": null,
   "metadata": {},
   "outputs": [],
   "source": []
  },
  {
   "cell_type": "markdown",
   "metadata": {},
   "source": [
    "## Chave"
   ]
  },
  {
   "cell_type": "code",
   "execution_count": null,
   "metadata": {},
   "outputs": [],
   "source": [
    "import datasets_manager as DM\n",
    "\n",
    "\n",
    "chave = DM.chave_questions()"
   ]
  },
  {
   "cell_type": "markdown",
   "metadata": {},
   "source": [
    "### Data pre-processing"
   ]
  },
  {
   "cell_type": "markdown",
   "metadata": {},
   "source": [
    "#### Remove questions with incosiderate class"
   ]
  },
  {
   "cell_type": "code",
   "execution_count": null,
   "metadata": {},
   "outputs": [],
   "source": [
    "incosiderate_classes=['X', 'MANNER', 'OBJECT', 'OTHER', 'DEFINITION']\n",
    "ret = []\n",
    "for question in chave:\n",
    "    if question['class'] is not None and question['class'] not in incosiderate_classes:\n",
    "        ret.append(question)\n",
    "chave = ret"
   ]
  },
  {
   "cell_type": "markdown",
   "metadata": {},
   "source": [
    "#### Remove questions with no text in question text"
   ]
  },
  {
   "cell_type": "code",
   "execution_count": null,
   "metadata": {},
   "outputs": [],
   "source": [
    "ret = []\n",
    "for question in chave:\n",
    "    if question['question'] is None or question['question'].strip() == '':\n",
    "        continue\n",
    "    ret.append(question)\n",
    "chave = ret"
   ]
  },
  {
   "cell_type": "markdown",
   "metadata": {},
   "source": [
    "#### X and y"
   ]
  },
  {
   "cell_type": "code",
   "execution_count": null,
   "metadata": {},
   "outputs": [],
   "source": [
    "chave_X, chave_y = separete_questions(chave)"
   ]
  },
  {
   "cell_type": "markdown",
   "metadata": {},
   "source": [
    "### Models"
   ]
  },
  {
   "cell_type": "code",
   "execution_count": null,
   "metadata": {},
   "outputs": [],
   "source": [
    "models = [\n",
    "    {'name': 'SVM BoW', 'model': svm_bow_model()},\n",
    "    {'name': 'SVM TF-IDF', 'model': svm_tfidf_model()},\n",
    "    #{'name': 'SVM W2V', 'model': svm_w2v_model()},\n",
    "    #{'name': 'SVM Hybrid', 'model': svm_hybrid_model()},\n",
    "]"
   ]
  },
  {
   "cell_type": "markdown",
   "metadata": {},
   "source": [
    "### Train and Test"
   ]
  },
  {
   "cell_type": "code",
   "execution_count": null,
   "metadata": {},
   "outputs": [],
   "source": [
    "%%time\n",
    "import numpy as np\n",
    "from sklearn.model_selection import ShuffleSplit\n",
    "from sklearn.metrics import accuracy_score, f1_score, precision_score, recall_score, confusion_matrix\n",
    "\n",
    "X = np.array(chave_X)\n",
    "y = np.array(chave_y)\n",
    "n = 40  # Training size interval\n",
    "k = 5  # k-folds\n",
    "minimum_test = 200\n",
    "\n",
    "size_train = 0\n",
    "results = []\n",
    "\n",
    "while (size_train + n) <= (len(X) - minimum_test):\n",
    "    size_train += n\n",
    "    size_test = len(X) - size_train\n",
    "    print ('\\nTrain:', size_train, 'Test:', size_test, end=': ')\n",
    "    rs = ShuffleSplit(n_splits=k, train_size=size_train, test_size=size_test, random_state=0)\n",
    "    for model in models:\n",
    "        print(' ', model['name'], end=' ')\n",
    "        accuracy = []\n",
    "        precision = []\n",
    "        recall = []\n",
    "        f1 = []\n",
    "        confusion = []\n",
    "        for train_indexs, test_indexs in rs.split(X):\n",
    "            print('.', end='')\n",
    "            x_train = X[train_indexs]\n",
    "            y_train = y[train_indexs]\n",
    "            x_test = X[test_indexs]\n",
    "            y_test = y[test_indexs]\n",
    "            \n",
    "            model_ = model['model'].fit(x_train, y_train)\n",
    "            result = model_.predict(x_test)\n",
    "            score = {}\n",
    "            accuracy.append(accuracy_score(result, y_test))\n",
    "            precision.append(precision_score(result, y_test, average=\"macro\"))\n",
    "            recall.append(recall_score(result, y_test, average=\"macro\"))\n",
    "            f1.append(f1_score(result, y_test, average=\"macro\"))\n",
    "            confusion.append(confusion_matrix(result, y_test))\n",
    "        \n",
    "        results.append({'Model': model['name'], \n",
    "                      'accuracy': np.mean(accuracy),\n",
    "                      'precision': np.mean(precision),\n",
    "                      'recall': np.mean(recall),\n",
    "                      'f1': np.mean(f1),\n",
    "                      'confusion': np.mean(confusion, axis=0),\n",
    "                      'train_size': size_train})\n",
    "print('')"
   ]
  },
  {
   "cell_type": "markdown",
   "metadata": {},
   "source": [
    "### Show Results"
   ]
  },
  {
   "cell_type": "code",
   "execution_count": null,
   "metadata": {},
   "outputs": [],
   "source": [
    "import pandas as pd\n",
    "import seaborn as sns\n",
    "%matplotlib inline\n",
    "import matplotlib.pyplot as plt\n",
    "\n",
    "names = [model['name'] for model in models]\n",
    "df = pd.DataFrame(results)\n",
    "\n",
    "aux = df[df.Model.map(lambda x: x in names)]\n",
    "\n",
    "sorterIndex = dict(zip(names, range(len(names))))\n",
    "aux['models_sort'] = aux['Model'].map(sorterIndex)\n",
    "aux.sort_values(['Model'], \\\n",
    "        ascending = [1], inplace = True)\n",
    "aux.drop('models_sort', 1, inplace = True)\n",
    "\n",
    "\n",
    "col_list = [\"black\", \"black\", \"black\", \"black\", \"black\"]\n",
    "col_list_palette = sns.xkcd_palette(col_list)\n",
    "#sns.set_palette(col_list_palette)\n",
    "sns.set_palette(sns.color_palette(\"muted\", 5))\n",
    "\n",
    "\n",
    "#df = df.drop('accuracy', 1).drop('precision', 1).drop('recall', 1).drop('train_size', 1)\n",
    "\n",
    "plt.figure(figsize=(8, 4))\n",
    "\n",
    "fig = sns.pointplot(x='train_size', y='f1', hue='Model', \n",
    "                    data=df[df.Model.map(lambda x: x in names)],\n",
    "                    #markers=['o',7,'p','s','x'],\n",
    "                    markers=['','','','',''],\n",
    "                    lineheight=1\n",
    "                   )\n",
    "\n",
    "for ind, label in enumerate(fig.get_xticklabels()):\n",
    "    if ind == 0 or ind == 12 or ind == 26 or ind == 39 or ind == 52:\n",
    "        label.set_visible(True)\n",
    "    else:\n",
    "        label.set_visible(False)\n",
    "plt.setp(fig.lines,linewidth=1.5)\n",
    "sns.set_context(\"notebook\", font_scale=1.5)\n",
    "fig.set(ylabel=\"f1\")\n",
    "fig.set(xlabel=\"Size of the training sample\")\n",
    "fig.set(ylabel=\"F1-Score\")"
   ]
  },
  {
   "cell_type": "markdown",
   "metadata": {},
   "source": [
    "## UIUC PT"
   ]
  },
  {
   "cell_type": "code",
   "execution_count": 7,
   "metadata": {},
   "outputs": [],
   "source": [
    "import datasets_manager as DM\n",
    "\n",
    "\n",
    "uiuc_pt_train, uiuc_pt_test = DM.uiuc_pt_questions()"
   ]
  },
  {
   "cell_type": "markdown",
   "metadata": {},
   "source": [
    "#### X and y"
   ]
  },
  {
   "cell_type": "code",
   "execution_count": 12,
   "metadata": {},
   "outputs": [],
   "source": [
    "uiuc_pt_train_X, uiuc_pt_train_y = separete_questions(uiuc_pt_train)\n",
    "uiuc_pt_test_X, uiuc_pt_test_y = separete_questions(uiuc_pt_test)"
   ]
  },
  {
   "cell_type": "markdown",
   "metadata": {},
   "source": [
    "### Models"
   ]
  },
  {
   "cell_type": "code",
   "execution_count": 22,
   "metadata": {},
   "outputs": [],
   "source": [
    "models = [\n",
    "    {'name': 'SVM BoW', 'model': svm_bow_model()},\n",
    "    {'name': 'SVM TF-IDF', 'model': svm_tfidf_model()},\n",
    "    {'name': 'SVM W2V', 'model': svm_w2v_model(pt_model_w2v)},\n",
    "    {'name': 'SVM Hybrid', 'model': svm_hybrid_model(pt_model_w2v)},\n",
    "]"
   ]
  },
  {
   "cell_type": "markdown",
   "metadata": {},
   "source": [
    "### Train and Test"
   ]
  },
  {
   "cell_type": "code",
   "execution_count": 23,
   "metadata": {},
   "outputs": [
    {
     "name": "stdout",
     "output_type": "stream",
     "text": [
      "\n",
      "Train: 40 Test: 5417:   SVM BoW .....  SVM TF-IDF .....  SVM W2V .....  SVM Hybrid .....\n",
      "Train: 80 Test: 5377:   SVM BoW .....  SVM TF-IDF .....  SVM W2V .....  SVM Hybrid .....\n",
      "Train: 120 Test: 5337:   SVM BoW .....  SVM TF-IDF .....  SVM W2V .....  SVM Hybrid .....\n",
      "Train: 160 Test: 5297:   SVM BoW .....  SVM TF-IDF .....  SVM W2V .....  SVM Hybrid .....\n",
      "Train: 200 Test: 5257:   SVM BoW .....  SVM TF-IDF .....  SVM W2V .....  SVM Hybrid .....\n",
      "Train: 240 Test: 5217:   SVM BoW .....  SVM TF-IDF .....  SVM W2V .....  SVM Hybrid .....\n",
      "Train: 280 Test: 5177:   SVM BoW .....  SVM TF-IDF .....  SVM W2V .....  SVM Hybrid .....\n",
      "Train: 320 Test: 5137:   SVM BoW .....  SVM TF-IDF .....  SVM W2V .....  SVM Hybrid .....\n",
      "Train: 360 Test: 5097:   SVM BoW .....  SVM TF-IDF .....  SVM W2V .....  SVM Hybrid .....\n",
      "Train: 400 Test: 5057:   SVM BoW .....  SVM TF-IDF .....  SVM W2V .....  SVM Hybrid .....\n",
      "Train: 440 Test: 5017:   SVM BoW .....  SVM TF-IDF .....  SVM W2V .....  SVM Hybrid .....\n",
      "Train: 480 Test: 4977:   SVM BoW .....  SVM TF-IDF .....  SVM W2V .....  SVM Hybrid .....\n",
      "Train: 520 Test: 4937:   SVM BoW .....  SVM TF-IDF .....  SVM W2V .....  SVM Hybrid .....\n",
      "Train: 560 Test: 4897:   SVM BoW .....  SVM TF-IDF .....  SVM W2V .....  SVM Hybrid .....\n",
      "Train: 600 Test: 4857:   SVM BoW .....  SVM TF-IDF .....  SVM W2V .....  SVM Hybrid .....\n",
      "Train: 640 Test: 4817:   SVM BoW .....  SVM TF-IDF .....  SVM W2V .....  SVM Hybrid .....\n",
      "Train: 680 Test: 4777:   SVM BoW .....  SVM TF-IDF .....  SVM W2V .....  SVM Hybrid .....\n",
      "Train: 720 Test: 4737:   SVM BoW .....  SVM TF-IDF .....  SVM W2V .....  SVM Hybrid .....\n",
      "Train: 760 Test: 4697:   SVM BoW .....  SVM TF-IDF .....  SVM W2V .....  SVM Hybrid .....\n",
      "Train: 800 Test: 4657:   SVM BoW .....  SVM TF-IDF .....  SVM W2V .....  SVM Hybrid .....\n",
      "Train: 840 Test: 4617:   SVM BoW .....  SVM TF-IDF .....  SVM W2V .....  SVM Hybrid .....\n",
      "Train: 880 Test: 4577:   SVM BoW .....  SVM TF-IDF .....  SVM W2V .....  SVM Hybrid .....\n",
      "Train: 920 Test: 4537:   SVM BoW .....  SVM TF-IDF .....  SVM W2V .....  SVM Hybrid .....\n",
      "Train: 960 Test: 4497:   SVM BoW .....  SVM TF-IDF .....  SVM W2V .....  SVM Hybrid .....\n",
      "Train: 1000 Test: 4457:   SVM BoW .....  SVM TF-IDF .....  SVM W2V .....  SVM Hybrid .....\n",
      "Train: 1040 Test: 4417:   SVM BoW .....  SVM TF-IDF .....  SVM W2V .....  SVM Hybrid .....\n",
      "Train: 1080 Test: 4377:   SVM BoW .....  SVM TF-IDF .....  SVM W2V .....  SVM Hybrid .....\n",
      "Train: 1120 Test: 4337:   SVM BoW .....  SVM TF-IDF .....  SVM W2V .....  SVM Hybrid .....\n",
      "Train: 1160 Test: 4297:   SVM BoW .....  SVM TF-IDF .....  SVM W2V .....  SVM Hybrid .....\n",
      "Train: 1200 Test: 4257:   SVM BoW .....  SVM TF-IDF .....  SVM W2V .....  SVM Hybrid .....\n",
      "Train: 1240 Test: 4217:   SVM BoW .....  SVM TF-IDF .....  SVM W2V .....  SVM Hybrid .....\n",
      "Train: 1280 Test: 4177:   SVM BoW .....  SVM TF-IDF .....  SVM W2V .....  SVM Hybrid .....\n",
      "Train: 1320 Test: 4137:   SVM BoW .....  SVM TF-IDF .....  SVM W2V .....  SVM Hybrid .....\n",
      "Train: 1360 Test: 4097:   SVM BoW .....  SVM TF-IDF .....  SVM W2V .....  SVM Hybrid .....\n",
      "Train: 1400 Test: 4057:   SVM BoW .....  SVM TF-IDF .....  SVM W2V .....  SVM Hybrid .....\n",
      "Train: 1440 Test: 4017:   SVM BoW .....  SVM TF-IDF .....  SVM W2V .....  SVM Hybrid .....\n",
      "Train: 1480 Test: 3977:   SVM BoW .....  SVM TF-IDF .....  SVM W2V .....  SVM Hybrid .....\n",
      "Train: 1520 Test: 3937:   SVM BoW .....  SVM TF-IDF .....  SVM W2V .....  SVM Hybrid .....\n",
      "Train: 1560 Test: 3897:   SVM BoW .....  SVM TF-IDF .....  SVM W2V .....  SVM Hybrid .....\n",
      "Train: 1600 Test: 3857:   SVM BoW .....  SVM TF-IDF .....  SVM W2V .....  SVM Hybrid .....\n",
      "Train: 1640 Test: 3817:   SVM BoW .....  SVM TF-IDF .....  SVM W2V .....  SVM Hybrid .....\n",
      "Train: 1680 Test: 3777:   SVM BoW .....  SVM TF-IDF .....  SVM W2V .....  SVM Hybrid .....\n",
      "Train: 1720 Test: 3737:   SVM BoW .....  SVM TF-IDF .....  SVM W2V .....  SVM Hybrid .....\n",
      "Train: 1760 Test: 3697:   SVM BoW .....  SVM TF-IDF .....  SVM W2V .....  SVM Hybrid .....\n",
      "Train: 1800 Test: 3657:   SVM BoW .....  SVM TF-IDF .....  SVM W2V .....  SVM Hybrid .....\n",
      "Train: 1840 Test: 3617:   SVM BoW .....  SVM TF-IDF .....  SVM W2V .....  SVM Hybrid .....\n",
      "Train: 1880 Test: 3577:   SVM BoW .....  SVM TF-IDF .....  SVM W2V .....  SVM Hybrid .....\n",
      "Train: 1920 Test: 3537:   SVM BoW .....  SVM TF-IDF .....  SVM W2V .....  SVM Hybrid .....\n",
      "Train: 1960 Test: 3497:   SVM BoW .....  SVM TF-IDF .....  SVM W2V .....  SVM Hybrid .....\n",
      "Train: 2000 Test: 3457:   SVM BoW .....  SVM TF-IDF .....  SVM W2V .....  SVM Hybrid .....\n",
      "Train: 2040 Test: 3417:   SVM BoW .....  SVM TF-IDF .....  SVM W2V .....  SVM Hybrid .....\n",
      "Train: 2080 Test: 3377:   SVM BoW .....  SVM TF-IDF .....  SVM W2V .....  SVM Hybrid .....\n",
      "Train: 2120 Test: 3337:   SVM BoW .....  SVM TF-IDF .....  SVM W2V .....  SVM Hybrid .....\n",
      "Train: 2160 Test: 3297:   SVM BoW .....  SVM TF-IDF .....  SVM W2V .....  SVM Hybrid .....\n",
      "Train: 2200 Test: 3257:   SVM BoW .....  SVM TF-IDF .....  SVM W2V .....  SVM Hybrid .....\n",
      "Train: 2240 Test: 3217:   SVM BoW .....  SVM TF-IDF .....  SVM W2V .....  SVM Hybrid .....\n",
      "Train: 2280 Test: 3177:   SVM BoW .....  SVM TF-IDF .....  SVM W2V .....  SVM Hybrid .....\n",
      "Train: 2320 Test: 3137:   SVM BoW .....  SVM TF-IDF .....  SVM W2V .....  SVM Hybrid .....\n",
      "Train: 2360 Test: 3097:   SVM BoW .....  SVM TF-IDF .....  SVM W2V .....  SVM Hybrid .....\n",
      "Train: 2400 Test: 3057:   SVM BoW .....  SVM TF-IDF .....  SVM W2V .....  SVM Hybrid .....\n",
      "Train: 2440 Test: 3017:   SVM BoW .....  SVM TF-IDF .....  SVM W2V .....  SVM Hybrid .....\n",
      "Train: 2480 Test: 2977:   SVM BoW .....  SVM TF-IDF .....  SVM W2V .....  SVM Hybrid .....\n",
      "Train: 2520 Test: 2937:   SVM BoW .....  SVM TF-IDF .....  SVM W2V .....  SVM Hybrid .....\n",
      "Train: 2560 Test: 2897:   SVM BoW .....  SVM TF-IDF .....  SVM W2V .....  SVM Hybrid .....\n",
      "Train: 2600 Test: 2857:   SVM BoW .....  SVM TF-IDF .....  SVM W2V .....  SVM Hybrid .....\n",
      "Train: 2640 Test: 2817:   SVM BoW .....  SVM TF-IDF .....  SVM W2V .....  SVM Hybrid .....\n",
      "Train: 2680 Test: 2777:   SVM BoW .....  SVM TF-IDF .....  SVM W2V .....  SVM Hybrid .....\n",
      "Train: 2720 Test: 2737:   SVM BoW .....  SVM TF-IDF .....  SVM W2V .....  SVM Hybrid .....\n",
      "Train: 2760 Test: 2697:   SVM BoW .....  SVM TF-IDF .....  SVM W2V .....  SVM Hybrid .....\n",
      "Train: 2800 Test: 2657:   SVM BoW .....  SVM TF-IDF .....  SVM W2V .....  SVM Hybrid .....\n",
      "Train: 2840 Test: 2617:   SVM BoW .....  SVM TF-IDF .....  SVM W2V .....  SVM Hybrid .....\n",
      "Train: 2880 Test: 2577:   SVM BoW .....  SVM TF-IDF .....  SVM W2V .....  SVM Hybrid .....\n",
      "Train: 2920 Test: 2537:   SVM BoW .....  SVM TF-IDF .....  SVM W2V .....  SVM Hybrid .....\n",
      "Train: 2960 Test: 2497:   SVM BoW .....  SVM TF-IDF .....  SVM W2V .....  SVM Hybrid .....\n",
      "Train: 3000 Test: 2457:   SVM BoW .....  SVM TF-IDF .....  SVM W2V .....  SVM Hybrid .....\n",
      "Train: 3040 Test: 2417:   SVM BoW .....  SVM TF-IDF .....  SVM W2V .....  SVM Hybrid .....\n",
      "Train: 3080 Test: 2377:   SVM BoW .....  SVM TF-IDF .....  SVM W2V .....  SVM Hybrid .....\n",
      "Train: 3120 Test: 2337:   SVM BoW .....  SVM TF-IDF .....  SVM W2V .....  SVM Hybrid .....\n",
      "Train: 3160 Test: 2297:   SVM BoW .....  SVM TF-IDF .....  SVM W2V .....  SVM Hybrid .....\n",
      "Train: 3200 Test: 2257:   SVM BoW .....  SVM TF-IDF .....  SVM W2V .....  SVM Hybrid .....\n",
      "Train: 3240 Test: 2217:   SVM BoW .....  SVM TF-IDF .....  SVM W2V .....  SVM Hybrid .....\n",
      "Train: 3280 Test: 2177:   SVM BoW .....  SVM TF-IDF .....  SVM W2V .....  SVM Hybrid .....\n",
      "Train: 3320 Test: 2137:   SVM BoW .....  SVM TF-IDF .....  SVM W2V .....  SVM Hybrid .....\n",
      "Train: 3360 Test: 2097:   SVM BoW .....  SVM TF-IDF .....  SVM W2V .....  SVM Hybrid .....\n",
      "Train: 3400 Test: 2057:   SVM BoW .....  SVM TF-IDF .....  SVM W2V .....  SVM Hybrid .....\n",
      "Train: 3440 Test: 2017:   SVM BoW .....  SVM TF-IDF .....  SVM W2V .....  SVM Hybrid .....\n",
      "Train: 3480 Test: 1977:   SVM BoW .....  SVM TF-IDF .....  SVM W2V .....  SVM Hybrid .....\n",
      "Train: 3520 Test: 1937:   SVM BoW .....  SVM TF-IDF .....  SVM W2V .....  SVM Hybrid .....\n",
      "Train: 3560 Test: 1897:   SVM BoW .....  SVM TF-IDF .....  SVM W2V .....  SVM Hybrid .....\n",
      "Train: 3600 Test: 1857:   SVM BoW .....  SVM TF-IDF .....  SVM W2V .....  SVM Hybrid .....\n"
     ]
    },
    {
     "name": "stdout",
     "output_type": "stream",
     "text": [
      "Train: 3640 Test: 1817:   SVM BoW .....  SVM TF-IDF .....  SVM W2V .....  SVM Hybrid .....\n",
      "Train: 3680 Test: 1777:   SVM BoW .....  SVM TF-IDF .....  SVM W2V .....  SVM Hybrid .....\n",
      "Train: 3720 Test: 1737:   SVM BoW .....  SVM TF-IDF .....  SVM W2V .....  SVM Hybrid .....\n",
      "Train: 3760 Test: 1697:   SVM BoW .....  SVM TF-IDF .....  SVM W2V .....  SVM Hybrid .....\n",
      "Train: 3800 Test: 1657:   SVM BoW .....  SVM TF-IDF .....  SVM W2V .....  SVM Hybrid .....\n",
      "Train: 3840 Test: 1617:   SVM BoW .....  SVM TF-IDF .....  SVM W2V .....  SVM Hybrid .....\n",
      "Train: 3880 Test: 1577:   SVM BoW .....  SVM TF-IDF .....  SVM W2V .....  SVM Hybrid .....\n",
      "Train: 3920 Test: 1537:   SVM BoW .....  SVM TF-IDF .....  SVM W2V .....  SVM Hybrid .....\n",
      "Train: 3960 Test: 1497:   SVM BoW .....  SVM TF-IDF .....  SVM W2V .....  SVM Hybrid .....\n",
      "Train: 4000 Test: 1457:   SVM BoW .....  SVM TF-IDF .....  SVM W2V .....  SVM Hybrid .....\n",
      "Train: 4040 Test: 1417:   SVM BoW .....  SVM TF-IDF .....  SVM W2V .....  SVM Hybrid .....\n",
      "Train: 4080 Test: 1377:   SVM BoW .....  SVM TF-IDF .....  SVM W2V .....  SVM Hybrid .....\n",
      "Train: 4120 Test: 1337:   SVM BoW .....  SVM TF-IDF .....  SVM W2V .....  SVM Hybrid .....\n",
      "Train: 4160 Test: 1297:   SVM BoW .....  SVM TF-IDF .....  SVM W2V .....  SVM Hybrid .....\n",
      "Train: 4200 Test: 1257:   SVM BoW .....  SVM TF-IDF .....  SVM W2V .....  SVM Hybrid .....\n",
      "Train: 4240 Test: 1217:   SVM BoW .....  SVM TF-IDF .....  SVM W2V .....  SVM Hybrid .....\n",
      "Train: 4280 Test: 1177:   SVM BoW .....  SVM TF-IDF .....  SVM W2V .....  SVM Hybrid .....\n",
      "Train: 4320 Test: 1137:   SVM BoW .....  SVM TF-IDF .....  SVM W2V .....  SVM Hybrid .....\n",
      "Train: 4360 Test: 1097:   SVM BoW .....  SVM TF-IDF .....  SVM W2V .....  SVM Hybrid .....\n",
      "Train: 4400 Test: 1057:   SVM BoW .....  SVM TF-IDF .....  SVM W2V .....  SVM Hybrid .....\n",
      "Train: 4440 Test: 1017:   SVM BoW .....  SVM TF-IDF .....  SVM W2V .....  SVM Hybrid .....\n",
      "Train: 4480 Test: 977:   SVM BoW .....  SVM TF-IDF .....  SVM W2V .....  SVM Hybrid .....\n",
      "Train: 4520 Test: 937:   SVM BoW .....  SVM TF-IDF .....  SVM W2V .....  SVM Hybrid .....\n",
      "Train: 4560 Test: 897:   SVM BoW .....  SVM TF-IDF .....  SVM W2V .....  SVM Hybrid .....\n",
      "Train: 4600 Test: 857:   SVM BoW .....  SVM TF-IDF .....  SVM W2V .....  SVM Hybrid .....\n",
      "Train: 4640 Test: 817:   SVM BoW .....  SVM TF-IDF .....  SVM W2V .....  SVM Hybrid .....\n",
      "Wall time: 27min 7s\n"
     ]
    }
   ],
   "source": [
    "%%time\n",
    "import numpy as np\n",
    "from sklearn.model_selection import ShuffleSplit\n",
    "from sklearn.metrics import accuracy_score, f1_score, precision_score, recall_score, confusion_matrix\n",
    "\n",
    "X_train = np.array(uiuc_pt_train_X)\n",
    "y_train = np.array(uiuc_pt_train_y)\n",
    "X_test = np.array(uiuc_pt_test_X)\n",
    "y_test = np.array(uiuc_pt_test_y)\n",
    "n = 40  # Training size interval\n",
    "k = 5\n",
    "minimum_test = 800\n",
    "\n",
    "size_train = 0\n",
    "results = []\n",
    "\n",
    "while (size_train + n) <= (len(X_train) - minimum_test):\n",
    "    size_train += n\n",
    "    size_test = len(X_train) - size_train\n",
    "    print ('\\nTrain:', size_train, 'Test:', size_test, end=': ')\n",
    "    rs = ShuffleSplit(n_splits=k, train_size=size_train, test_size=size_test, random_state=0)\n",
    "    for model in models:\n",
    "        print(' ', model['name'], end=' ')\n",
    "        accuracy = []\n",
    "        precision = []\n",
    "        recall = []\n",
    "        f1 = []\n",
    "        confusion = []\n",
    "        for train_indexs, test_indexs in rs.split(X_train):\n",
    "            print('.', end='')\n",
    "            x_train_ = X_train[train_indexs]\n",
    "            y_train_ = y_train[train_indexs]\n",
    "            \n",
    "            model_ = model['model'].fit(x_train_, y_train_)\n",
    "            result = model_.predict(X_test)\n",
    "            score = {}\n",
    "            accuracy.append(accuracy_score(result, y_test))\n",
    "            precision.append(precision_score(result, y_test, average=\"macro\"))\n",
    "            recall.append(recall_score(result, y_test, average=\"macro\"))\n",
    "            f1.append(f1_score(result, y_test, average=\"macro\"))\n",
    "            confusion.append(confusion_matrix(result, y_test))\n",
    "        \n",
    "        results.append({'Model': model['name'], \n",
    "                      'accuracy': np.mean(accuracy),\n",
    "                      'precision': np.mean(precision),\n",
    "                      'recall': np.mean(recall),\n",
    "                      'f1': np.mean(f1),\n",
    "                      'confusion': np.mean(confusion, axis=0),\n",
    "                      'train_size': size_train})\n",
    "print('')"
   ]
  },
  {
   "cell_type": "markdown",
   "metadata": {},
   "source": [
    "### Show Results"
   ]
  },
  {
   "cell_type": "code",
   "execution_count": 39,
   "metadata": {
    "scrolled": true
   },
   "outputs": [
    {
     "data": {
      "text/plain": [
       "[Text(0,0.5,'F1-Score')]"
      ]
     },
     "execution_count": 39,
     "metadata": {},
     "output_type": "execute_result"
    },
    {
     "data": {
      "image/png": "[encoded data removed]",
      "text/plain": [
       "<matplotlib.figure.Figure at 0x1a542feaeb8>"
      ]
     },
     "metadata": {},
     "output_type": "display_data"
    }
   ],
   "source": [
    "import pandas as pd\n",
    "import seaborn as sns\n",
    "%matplotlib inline\n",
    "import matplotlib.pyplot as plt\n",
    "\n",
    "names = [model['name'] for model in models]\n",
    "df = pd.DataFrame(results)\n",
    "\n",
    "aux = df[df.Model.map(lambda x: x in names)]\n",
    "\n",
    "sorterIndex = dict(zip(names, range(len(names))))\n",
    "aux['models_sort'] = aux['Model'].map(sorterIndex)\n",
    "aux.sort_values(['Model'], \\\n",
    "        ascending = [1], inplace = True)\n",
    "aux.drop('models_sort', 1, inplace = True)\n",
    "\n",
    "\n",
    "col_list = [\"black\", \"black\", \"black\", \"black\", \"black\"]\n",
    "col_list_palette = sns.xkcd_palette(col_list)\n",
    "#sns.set_palette(col_list_palette)\n",
    "sns.set_palette(sns.color_palette(\"muted\", 4))\n",
    "\n",
    "\n",
    "#df = df.drop('accuracy', 1).drop('precision', 1).drop('recall', 1).drop('train_size', 1)\n",
    "\n",
    "plt.figure(figsize=(8, 4))\n",
    "\n",
    "fig = sns.pointplot(x='train_size', y='f1', hue='Model', \n",
    "                    data=df[df.Model.map(lambda x: x in names)],\n",
    "                    #markers=['o',7,'p','s','x'],\n",
    "                    markers=['','','','',''],\n",
    "                    lineheight=1\n",
    "                   )\n",
    "\n",
    "total_ = len(uiuc_pt_train_X)\n",
    "s0 = 40\n",
    "s1 = int(1*(total_/4))\n",
    "s2 = int(2*(total_/4))\n",
    "s3 = int(3*(total_/4))\n",
    "s4 = total_\n",
    "\n",
    "for ind, label in enumerate(fig.get_xticklabels()):\n",
    "    if ind == s0 or ind == s1 or ind == s2 or ind == s3 or ind == s4:\n",
    "        label.set_visible(True)\n",
    "    else:\n",
    "        label.set_visible(False)\n",
    "plt.setp(fig.lines,linewidth=1.5)\n",
    "sns.set_context(\"notebook\", font_scale=1.5)\n",
    "fig.set(ylabel=\"f1\")\n",
    "fig.set(xlabel=\"Size of the training sample\")\n",
    "fig.set(ylabel=\"F1-Score\")"
   ]
  },
  {
   "cell_type": "markdown",
   "metadata": {},
   "source": [
    "## UIUC"
   ]
  },
  {
   "cell_type": "code",
   "execution_count": null,
   "metadata": {},
   "outputs": [],
   "source": [
    "import datasets_manager as DM\n",
    "\n",
    "\n",
    "uiuc_train, uiuc_test = DM.uiuc_questions()"
   ]
  }
 ],
 "metadata": {
  "kernelspec": {
   "display_name": "Python 3",
   "language": "python",
   "name": "python3"
  },
  "language_info": {
   "codemirror_mode": {
    "name": "ipython",
    "version": 3
   },
   "file_extension": ".py",
   "mimetype": "text/x-python",
   "name": "python",
   "nbconvert_exporter": "python",
   "pygments_lexer": "ipython3",
   "version": "3.6.4"
  }
 },
 "nbformat": 4,
 "nbformat_minor": 2
}
